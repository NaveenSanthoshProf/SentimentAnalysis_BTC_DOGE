{
 "cells": [
  {
   "cell_type": "code",
   "execution_count": 1,
   "id": "a01b86ab",
   "metadata": {
    "execution": {
     "iopub.execute_input": "2022-01-06T14:37:53.856423Z",
     "iopub.status.busy": "2022-01-06T14:37:53.855596Z",
     "iopub.status.idle": "2022-01-06T14:37:53.859405Z",
     "shell.execute_reply": "2022-01-06T14:37:53.858881Z",
     "shell.execute_reply.started": "2022-01-06T14:17:45.677932Z"
    },
    "papermill": {
     "duration": 0.03304,
     "end_time": "2022-01-06T14:37:53.859541",
     "exception": false,
     "start_time": "2022-01-06T14:37:53.826501",
     "status": "completed"
    },
    "tags": []
   },
   "outputs": [],
   "source": [
    "import os\n",
    "\n",
    "os.environ['TF_CPP_MIN_LOG_LEVEL'] = '3'"
   ]
  },
  {
   "cell_type": "code",
   "execution_count": 2,
   "id": "7bfbba59",
   "metadata": {
    "_cell_guid": "b1076dfc-b9ad-4769-8c92-a6c4dae69d19",
    "_uuid": "8f2839f25d086af736a60e9eeb907d3b93b6e0e5",
    "execution": {
     "iopub.execute_input": "2022-01-06T14:37:53.899310Z",
     "iopub.status.busy": "2022-01-06T14:37:53.898752Z",
     "iopub.status.idle": "2022-01-06T14:37:53.902482Z",
     "shell.execute_reply": "2022-01-06T14:37:53.902071Z",
     "shell.execute_reply.started": "2022-01-06T14:17:45.703034Z"
    },
    "papermill": {
     "duration": 0.024822,
     "end_time": "2022-01-06T14:37:53.902593",
     "exception": false,
     "start_time": "2022-01-06T14:37:53.877771",
     "status": "completed"
    },
    "tags": []
   },
   "outputs": [],
   "source": [
    "import os\n",
    "\n",
    "import numpy as np\n",
    "import pandas as pd\n",
    "\n",
    "import matplotlib.pyplot as plt"
   ]
  },
  {
   "cell_type": "code",
   "execution_count": 3,
   "id": "a99b515f",
   "metadata": {
    "execution": {
     "iopub.execute_input": "2022-01-06T14:37:53.941732Z",
     "iopub.status.busy": "2022-01-06T14:37:53.941216Z",
     "iopub.status.idle": "2022-01-06T14:37:55.464073Z",
     "shell.execute_reply": "2022-01-06T14:37:55.464766Z",
     "shell.execute_reply.started": "2022-01-06T14:17:45.710006Z"
    },
    "papermill": {
     "duration": 1.544984,
     "end_time": "2022-01-06T14:37:55.465000",
     "exception": false,
     "start_time": "2022-01-06T14:37:53.920016",
     "status": "completed"
    },
    "tags": []
   },
   "outputs": [
    {
     "data": {
      "text/html": [
       "<div>\n",
       "<style scoped>\n",
       "    .dataframe tbody tr th:only-of-type {\n",
       "        vertical-align: middle;\n",
       "    }\n",
       "\n",
       "    .dataframe tbody tr th {\n",
       "        vertical-align: top;\n",
       "    }\n",
       "\n",
       "    .dataframe thead th {\n",
       "        text-align: right;\n",
       "    }\n",
       "</style>\n",
       "<table border=\"1\" class=\"dataframe\">\n",
       "  <thead>\n",
       "    <tr style=\"text-align: right;\">\n",
       "      <th></th>\n",
       "      <th>date</th>\n",
       "      <th>vader_negative</th>\n",
       "      <th>vader_neutral</th>\n",
       "      <th>vader_positive</th>\n",
       "      <th>tweet_length</th>\n",
       "      <th>vader_scale</th>\n",
       "      <th>tweets_vol</th>\n",
       "      <th>Close</th>\n",
       "    </tr>\n",
       "  </thead>\n",
       "  <tbody>\n",
       "    <tr>\n",
       "      <th>0</th>\n",
       "      <td>2021-04-16 06:01:00</td>\n",
       "      <td>0.017187</td>\n",
       "      <td>0.911794</td>\n",
       "      <td>0.071019</td>\n",
       "      <td>13.700935</td>\n",
       "      <td>3.495327</td>\n",
       "      <td>107</td>\n",
       "      <td>0.255806</td>\n",
       "    </tr>\n",
       "    <tr>\n",
       "      <th>1</th>\n",
       "      <td>2021-04-16 06:02:00</td>\n",
       "      <td>0.036131</td>\n",
       "      <td>0.897935</td>\n",
       "      <td>0.065935</td>\n",
       "      <td>14.214953</td>\n",
       "      <td>3.420561</td>\n",
       "      <td>107</td>\n",
       "      <td>0.256923</td>\n",
       "    </tr>\n",
       "    <tr>\n",
       "      <th>2</th>\n",
       "      <td>2021-04-16 06:03:00</td>\n",
       "      <td>0.031773</td>\n",
       "      <td>0.902023</td>\n",
       "      <td>0.066216</td>\n",
       "      <td>14.261364</td>\n",
       "      <td>3.431818</td>\n",
       "      <td>88</td>\n",
       "      <td>0.255143</td>\n",
       "    </tr>\n",
       "    <tr>\n",
       "      <th>3</th>\n",
       "      <td>2021-04-16 06:04:00</td>\n",
       "      <td>0.026615</td>\n",
       "      <td>0.912115</td>\n",
       "      <td>0.061271</td>\n",
       "      <td>15.020833</td>\n",
       "      <td>3.479167</td>\n",
       "      <td>96</td>\n",
       "      <td>0.256478</td>\n",
       "    </tr>\n",
       "    <tr>\n",
       "      <th>4</th>\n",
       "      <td>2021-04-16 06:05:00</td>\n",
       "      <td>0.009549</td>\n",
       "      <td>0.878044</td>\n",
       "      <td>0.112385</td>\n",
       "      <td>12.109890</td>\n",
       "      <td>3.340659</td>\n",
       "      <td>91</td>\n",
       "      <td>0.258904</td>\n",
       "    </tr>\n",
       "  </tbody>\n",
       "</table>\n",
       "</div>"
      ],
      "text/plain": [
       "                  date  vader_negative  vader_neutral  vader_positive  \\\n",
       "0  2021-04-16 06:01:00        0.017187       0.911794        0.071019   \n",
       "1  2021-04-16 06:02:00        0.036131       0.897935        0.065935   \n",
       "2  2021-04-16 06:03:00        0.031773       0.902023        0.066216   \n",
       "3  2021-04-16 06:04:00        0.026615       0.912115        0.061271   \n",
       "4  2021-04-16 06:05:00        0.009549       0.878044        0.112385   \n",
       "\n",
       "   tweet_length  vader_scale  tweets_vol     Close  \n",
       "0     13.700935     3.495327         107  0.255806  \n",
       "1     14.214953     3.420561         107  0.256923  \n",
       "2     14.261364     3.431818          88  0.255143  \n",
       "3     15.020833     3.479167          96  0.256478  \n",
       "4     12.109890     3.340659          91  0.258904  "
      ]
     },
     "execution_count": 3,
     "metadata": {},
     "output_type": "execute_result"
    }
   ],
   "source": [
    "prices = pd.read_csv('../input/dogecoinprices/full_data__4__2021.csv/full_data__4__2021.csv')\n",
    "sentiment = pd.read_csv('../input/dogecoinprices/doge-tweets-sentiment-prices.csv')\n",
    "\n",
    "sentiment.head()"
   ]
  },
  {
   "cell_type": "code",
   "execution_count": 4,
   "id": "b2d1726b",
   "metadata": {
    "execution": {
     "iopub.execute_input": "2022-01-06T14:37:55.534674Z",
     "iopub.status.busy": "2022-01-06T14:37:55.532835Z",
     "iopub.status.idle": "2022-01-06T14:37:55.537344Z",
     "shell.execute_reply": "2022-01-06T14:37:55.536674Z",
     "shell.execute_reply.started": "2022-01-06T14:17:47.102912Z"
    },
    "papermill": {
     "duration": 0.039816,
     "end_time": "2022-01-06T14:37:55.537496",
     "exception": false,
     "start_time": "2022-01-06T14:37:55.497680",
     "status": "completed"
    },
    "tags": []
   },
   "outputs": [
    {
     "data": {
      "text/plain": [
       "(6477, 8)"
      ]
     },
     "execution_count": 4,
     "metadata": {},
     "output_type": "execute_result"
    }
   ],
   "source": [
    "sentiment.shape"
   ]
  },
  {
   "cell_type": "code",
   "execution_count": 5,
   "id": "a812f9fc",
   "metadata": {
    "execution": {
     "iopub.execute_input": "2022-01-06T14:37:55.603518Z",
     "iopub.status.busy": "2022-01-06T14:37:55.602758Z",
     "iopub.status.idle": "2022-01-06T14:37:55.610393Z",
     "shell.execute_reply": "2022-01-06T14:37:55.611701Z",
     "shell.execute_reply.started": "2022-01-06T14:17:47.110673Z"
    },
    "papermill": {
     "duration": 0.045221,
     "end_time": "2022-01-06T14:37:55.611903",
     "exception": false,
     "start_time": "2022-01-06T14:37:55.566682",
     "status": "completed"
    },
    "tags": []
   },
   "outputs": [
    {
     "data": {
      "text/plain": [
       "date              0\n",
       "vader_negative    0\n",
       "vader_neutral     0\n",
       "vader_positive    0\n",
       "tweet_length      0\n",
       "vader_scale       0\n",
       "tweets_vol        0\n",
       "Close             0\n",
       "dtype: int64"
      ]
     },
     "execution_count": 5,
     "metadata": {},
     "output_type": "execute_result"
    }
   ],
   "source": [
    "sentiment.isna().sum()"
   ]
  },
  {
   "cell_type": "code",
   "execution_count": 6,
   "id": "5fa24d30",
   "metadata": {
    "execution": {
     "iopub.execute_input": "2022-01-06T14:37:55.688288Z",
     "iopub.status.busy": "2022-01-06T14:37:55.687282Z",
     "iopub.status.idle": "2022-01-06T14:37:55.689649Z",
     "shell.execute_reply": "2022-01-06T14:37:55.689011Z",
     "shell.execute_reply.started": "2022-01-06T14:17:47.125989Z"
    },
    "papermill": {
     "duration": 0.045139,
     "end_time": "2022-01-06T14:37:55.689797",
     "exception": false,
     "start_time": "2022-01-06T14:37:55.644658",
     "status": "completed"
    },
    "tags": []
   },
   "outputs": [],
   "source": [
    "sentiment.set_index('date', inplace=True)"
   ]
  },
  {
   "cell_type": "code",
   "execution_count": 7,
   "id": "604ee194",
   "metadata": {
    "execution": {
     "iopub.execute_input": "2022-01-06T14:37:55.763970Z",
     "iopub.status.busy": "2022-01-06T14:37:55.763059Z",
     "iopub.status.idle": "2022-01-06T14:37:55.771225Z",
     "shell.execute_reply": "2022-01-06T14:37:55.772299Z",
     "shell.execute_reply.started": "2022-01-06T14:17:47.135482Z"
    },
    "papermill": {
     "duration": 0.051257,
     "end_time": "2022-01-06T14:37:55.772505",
     "exception": false,
     "start_time": "2022-01-06T14:37:55.721248",
     "status": "completed"
    },
    "tags": []
   },
   "outputs": [
    {
     "data": {
      "text/html": [
       "<div>\n",
       "<style scoped>\n",
       "    .dataframe tbody tr th:only-of-type {\n",
       "        vertical-align: middle;\n",
       "    }\n",
       "\n",
       "    .dataframe tbody tr th {\n",
       "        vertical-align: top;\n",
       "    }\n",
       "\n",
       "    .dataframe thead th {\n",
       "        text-align: right;\n",
       "    }\n",
       "</style>\n",
       "<table border=\"1\" class=\"dataframe\">\n",
       "  <thead>\n",
       "    <tr style=\"text-align: right;\">\n",
       "      <th></th>\n",
       "      <th>Close</th>\n",
       "    </tr>\n",
       "    <tr>\n",
       "      <th>date</th>\n",
       "      <th></th>\n",
       "    </tr>\n",
       "  </thead>\n",
       "  <tbody>\n",
       "    <tr>\n",
       "      <th>2021-04-20 17:53:00</th>\n",
       "      <td>0.349367</td>\n",
       "    </tr>\n",
       "    <tr>\n",
       "      <th>2021-04-20 17:54:00</th>\n",
       "      <td>0.349804</td>\n",
       "    </tr>\n",
       "    <tr>\n",
       "      <th>2021-04-20 17:55:00</th>\n",
       "      <td>0.352680</td>\n",
       "    </tr>\n",
       "    <tr>\n",
       "      <th>2021-04-20 17:56:00</th>\n",
       "      <td>0.350923</td>\n",
       "    </tr>\n",
       "    <tr>\n",
       "      <th>2021-04-20 17:57:00</th>\n",
       "      <td>0.353917</td>\n",
       "    </tr>\n",
       "  </tbody>\n",
       "</table>\n",
       "</div>"
      ],
      "text/plain": [
       "                        Close\n",
       "date                         \n",
       "2021-04-20 17:53:00  0.349367\n",
       "2021-04-20 17:54:00  0.349804\n",
       "2021-04-20 17:55:00  0.352680\n",
       "2021-04-20 17:56:00  0.350923\n",
       "2021-04-20 17:57:00  0.353917"
      ]
     },
     "execution_count": 7,
     "metadata": {},
     "output_type": "execute_result"
    }
   ],
   "source": [
    "prices = sentiment[['Close']]\n",
    "prices.tail()"
   ]
  },
  {
   "cell_type": "markdown",
   "id": "712b1be0",
   "metadata": {
    "papermill": {
     "duration": 0.028326,
     "end_time": "2022-01-06T14:37:55.833982",
     "exception": false,
     "start_time": "2022-01-06T14:37:55.805656",
     "status": "completed"
    },
    "tags": []
   },
   "source": [
    "## Data Preprocessing"
   ]
  },
  {
   "cell_type": "markdown",
   "id": "af36c2a4",
   "metadata": {
    "papermill": {
     "duration": 0.018511,
     "end_time": "2022-01-06T14:37:55.871584",
     "exception": false,
     "start_time": "2022-01-06T14:37:55.853073",
     "status": "completed"
    },
    "tags": []
   },
   "source": [
    "### 1. Sentiment Preprocessing"
   ]
  },
  {
   "cell_type": "code",
   "execution_count": 8,
   "id": "1db81e24",
   "metadata": {
    "execution": {
     "iopub.execute_input": "2022-01-06T14:37:55.916708Z",
     "iopub.status.busy": "2022-01-06T14:37:55.916061Z",
     "iopub.status.idle": "2022-01-06T14:38:01.092015Z",
     "shell.execute_reply": "2022-01-06T14:38:01.092493Z",
     "shell.execute_reply.started": "2022-01-06T14:17:47.153883Z"
    },
    "papermill": {
     "duration": 5.202286,
     "end_time": "2022-01-06T14:38:01.092658",
     "exception": false,
     "start_time": "2022-01-06T14:37:55.890372",
     "status": "completed"
    },
    "tags": []
   },
   "outputs": [],
   "source": [
    "from sklearn.preprocessing import MinMaxScaler\n",
    "from tensorflow.keras.preprocessing.sequence import TimeseriesGenerator\n",
    "\n",
    "X = sentiment.iloc[:, :-1]\n",
    "y = sentiment[['Close']]\n",
    "\n",
    "train_split = 0.9\n",
    "data_len = int(y.shape[0] * train_split)\n",
    "\n",
    "features_scaler = MinMaxScaler(feature_range=(-1, 1))\n",
    "target_scaler = MinMaxScaler()\n",
    "\n",
    "X = features_scaler.fit_transform(X)\n",
    "y = target_scaler.fit_transform(y)\n",
    "\n",
    "X_train = X[:data_len]\n",
    "y_train = y[:data_len]\n",
    "X_test = X[data_len:]\n",
    "y_test = y[data_len:]"
   ]
  },
  {
   "cell_type": "markdown",
   "id": "8a96c605",
   "metadata": {
    "papermill": {
     "duration": 0.018534,
     "end_time": "2022-01-06T14:38:01.130136",
     "exception": false,
     "start_time": "2022-01-06T14:38:01.111602",
     "status": "completed"
    },
    "tags": []
   },
   "source": [
    "### Add TimeStamp\n",
    "\n",
    "As we working with multi input model, we can not fit our model with generators, so we have to do it manually."
   ]
  },
  {
   "cell_type": "code",
   "execution_count": 9,
   "id": "38a3984f",
   "metadata": {
    "execution": {
     "iopub.execute_input": "2022-01-06T14:38:01.174018Z",
     "iopub.status.busy": "2022-01-06T14:38:01.173168Z",
     "iopub.status.idle": "2022-01-06T14:38:01.174861Z",
     "shell.execute_reply": "2022-01-06T14:38:01.175359Z",
     "shell.execute_reply.started": "2022-01-06T14:17:52.269301Z"
    },
    "papermill": {
     "duration": 0.026739,
     "end_time": "2022-01-06T14:38:01.175487",
     "exception": false,
     "start_time": "2022-01-06T14:38:01.148748",
     "status": "completed"
    },
    "tags": []
   },
   "outputs": [],
   "source": [
    "# split a multivariate sequence into samples\n",
    "def Timeseries_sequences(sequences, target, length,):\n",
    "    X, y = list(), list()\n",
    "    for i in range(len(sequences)):\n",
    "        # find the end of this pattern\n",
    "        end_ix = i + length\n",
    "        # check if we are beyond the dataset\n",
    "        if end_ix > len(sequences) - 1: \n",
    "            break\n",
    "        # gather input and output parts of the pattern\n",
    "        seq_x, seq_y = sequences[i:end_ix, :], target[end_ix-1, :] \n",
    "        X.append(seq_x)\n",
    "        y.append(seq_y)\n",
    "    return np.array(X), np.array(y)"
   ]
  },
  {
   "cell_type": "code",
   "execution_count": 10,
   "id": "0bbeb84b",
   "metadata": {
    "execution": {
     "iopub.execute_input": "2022-01-06T14:38:01.226697Z",
     "iopub.status.busy": "2022-01-06T14:38:01.225978Z",
     "iopub.status.idle": "2022-01-06T14:38:01.253080Z",
     "shell.execute_reply": "2022-01-06T14:38:01.252436Z",
     "shell.execute_reply.started": "2022-01-06T14:25:11.711415Z"
    },
    "papermill": {
     "duration": 0.059036,
     "end_time": "2022-01-06T14:38:01.253222",
     "exception": false,
     "start_time": "2022-01-06T14:38:01.194186",
     "status": "completed"
    },
    "tags": []
   },
   "outputs": [],
   "source": [
    "sr = 2\n",
    "lb = 60*sr # hours\n",
    "\n",
    "X_train_sent, y_train_sent = Timeseries_sequences(X_train, y_train, length=lb)\n",
    "X_test_sent, y_test_sent = Timeseries_sequences(X_test, y_test, length=lb)"
   ]
  },
  {
   "cell_type": "code",
   "execution_count": 11,
   "id": "f5e83fc0",
   "metadata": {
    "execution": {
     "iopub.execute_input": "2022-01-06T14:38:01.297170Z",
     "iopub.status.busy": "2022-01-06T14:38:01.296356Z",
     "iopub.status.idle": "2022-01-06T14:38:01.302161Z",
     "shell.execute_reply": "2022-01-06T14:38:01.301711Z",
     "shell.execute_reply.started": "2022-01-06T14:25:11.874676Z"
    },
    "papermill": {
     "duration": 0.027269,
     "end_time": "2022-01-06T14:38:01.302284",
     "exception": false,
     "start_time": "2022-01-06T14:38:01.275015",
     "status": "completed"
    },
    "tags": []
   },
   "outputs": [
    {
     "data": {
      "text/plain": [
       "((5709, 120, 6), (5709, 1))"
      ]
     },
     "execution_count": 11,
     "metadata": {},
     "output_type": "execute_result"
    }
   ],
   "source": [
    "X_train_sent.shape, y_train_sent.shape"
   ]
  },
  {
   "cell_type": "markdown",
   "id": "18ef954c",
   "metadata": {
    "papermill": {
     "duration": 0.018934,
     "end_time": "2022-01-06T14:38:01.340574",
     "exception": false,
     "start_time": "2022-01-06T14:38:01.321640",
     "status": "completed"
    },
    "tags": []
   },
   "source": [
    "### 2. Prices Preprocessing"
   ]
  },
  {
   "cell_type": "code",
   "execution_count": 12,
   "id": "449fd296",
   "metadata": {
    "execution": {
     "iopub.execute_input": "2022-01-06T14:38:01.391704Z",
     "iopub.status.busy": "2022-01-06T14:38:01.390911Z",
     "iopub.status.idle": "2022-01-06T14:38:01.404531Z",
     "shell.execute_reply": "2022-01-06T14:38:01.404997Z",
     "shell.execute_reply.started": "2022-01-06T14:25:12.206760Z"
    },
    "papermill": {
     "duration": 0.04549,
     "end_time": "2022-01-06T14:38:01.405159",
     "exception": false,
     "start_time": "2022-01-06T14:38:01.359669",
     "status": "completed"
    },
    "tags": []
   },
   "outputs": [],
   "source": [
    "X_train_price, y_train_price = Timeseries_sequences(y_train, y_train, length=lb)\n",
    "X_test_price, y_test_price = Timeseries_sequences(y_test, y_test, length=lb)"
   ]
  },
  {
   "cell_type": "markdown",
   "id": "ef314132",
   "metadata": {
    "papermill": {
     "duration": 0.018848,
     "end_time": "2022-01-06T14:38:01.443201",
     "exception": false,
     "start_time": "2022-01-06T14:38:01.424353",
     "status": "completed"
    },
    "tags": []
   },
   "source": [
    "## Model"
   ]
  },
  {
   "cell_type": "code",
   "execution_count": 13,
   "id": "1d205802",
   "metadata": {
    "execution": {
     "iopub.execute_input": "2022-01-06T14:38:01.486724Z",
     "iopub.status.busy": "2022-01-06T14:38:01.485866Z",
     "iopub.status.idle": "2022-01-06T14:38:01.490352Z",
     "shell.execute_reply": "2022-01-06T14:38:01.489907Z",
     "shell.execute_reply.started": "2022-01-06T14:25:13.368517Z"
    },
    "papermill": {
     "duration": 0.028261,
     "end_time": "2022-01-06T14:38:01.490460",
     "exception": false,
     "start_time": "2022-01-06T14:38:01.462199",
     "status": "completed"
    },
    "tags": []
   },
   "outputs": [],
   "source": [
    "import tensorflow as tf\n",
    "\n",
    "from tensorflow.keras.models import Model\n",
    "#from keras.layers.merge import concatenate\n",
    "from tensorflow.keras.layers import LSTM, Dense, Dropout, Input, Concatenate\n",
    "from tensorflow.keras.callbacks import EarlyStopping, LearningRateScheduler\n",
    "\n",
    "from tensorflow.keras.optimizers import SGD, Adam"
   ]
  },
  {
   "cell_type": "code",
   "execution_count": 14,
   "id": "4f737540",
   "metadata": {
    "execution": {
     "iopub.execute_input": "2022-01-06T14:38:01.534539Z",
     "iopub.status.busy": "2022-01-06T14:38:01.533924Z",
     "iopub.status.idle": "2022-01-06T14:38:01.536387Z",
     "shell.execute_reply": "2022-01-06T14:38:01.536780Z",
     "shell.execute_reply.started": "2022-01-06T14:25:13.613683Z"
    },
    "papermill": {
     "duration": 0.027322,
     "end_time": "2022-01-06T14:38:01.536921",
     "exception": false,
     "start_time": "2022-01-06T14:38:01.509599",
     "status": "completed"
    },
    "tags": []
   },
   "outputs": [
    {
     "data": {
      "text/plain": [
       "((120, 6), (120, 1))"
      ]
     },
     "execution_count": 14,
     "metadata": {},
     "output_type": "execute_result"
    }
   ],
   "source": [
    "sent_shape = X_train_sent.shape[1:]\n",
    "price_shape = X_train_price.shape[1:]\n",
    "\n",
    "sent_shape, price_shape"
   ]
  },
  {
   "cell_type": "code",
   "execution_count": 15,
   "id": "ba50df2e",
   "metadata": {
    "execution": {
     "iopub.execute_input": "2022-01-06T14:38:01.585416Z",
     "iopub.status.busy": "2022-01-06T14:38:01.584742Z",
     "iopub.status.idle": "2022-01-06T14:38:04.637586Z",
     "shell.execute_reply": "2022-01-06T14:38:04.638029Z",
     "shell.execute_reply.started": "2022-01-06T14:25:13.961803Z"
    },
    "papermill": {
     "duration": 3.081002,
     "end_time": "2022-01-06T14:38:04.638189",
     "exception": false,
     "start_time": "2022-01-06T14:38:01.557187",
     "status": "completed"
    },
    "tags": []
   },
   "outputs": [
    {
     "name": "stdout",
     "output_type": "stream",
     "text": [
      "Model: \"model\"\n",
      "__________________________________________________________________________________________________\n",
      "Layer (type)                    Output Shape         Param #     Connected to                     \n",
      "==================================================================================================\n",
      "sentiment_input (InputLayer)    [(None, 120, 6)]     0                                            \n",
      "__________________________________________________________________________________________________\n",
      "prices_input (InputLayer)       [(None, 120, 1)]     0                                            \n",
      "__________________________________________________________________________________________________\n",
      "sentiment_LSTM_sequences (LSTM) (None, 120, 32)      4992        sentiment_input[0][0]            \n",
      "__________________________________________________________________________________________________\n",
      "prices_LSTM_sequences (LSTM)    (None, 120, 32)      4352        prices_input[0][0]               \n",
      "__________________________________________________________________________________________________\n",
      "sentiment_LSTM (LSTM)           (None, 4)            592         sentiment_LSTM_sequences[0][0]   \n",
      "__________________________________________________________________________________________________\n",
      "prices_LSTM (LSTM)              (None, 4)            592         prices_LSTM_sequences[0][0]      \n",
      "__________________________________________________________________________________________________\n",
      "sentiment_vector_representation (None, 4)            20          sentiment_LSTM[0][0]             \n",
      "__________________________________________________________________________________________________\n",
      "prices_vector_representation (D (None, 4)            20          prices_LSTM[0][0]                \n",
      "__________________________________________________________________________________________________\n",
      "merge (Concatenate)             (None, 8)            0           sentiment_vector_representation[0\n",
      "                                                                 prices_vector_representation[0][0\n",
      "__________________________________________________________________________________________________\n",
      "output (Dense)                  (None, 1)            9           merge[0][0]                      \n",
      "==================================================================================================\n",
      "Total params: 10,577\n",
      "Trainable params: 10,577\n",
      "Non-trainable params: 0\n",
      "__________________________________________________________________________________________________\n"
     ]
    }
   ],
   "source": [
    "# design a parallel model\n",
    "\n",
    "sent_input = Input(shape=sent_shape, name='sentiment_input') # x1\n",
    "price_input = Input(shape=price_shape, name='prices_input') # x2\n",
    "\n",
    "# sentiment Network\n",
    "x1 = LSTM(32, return_sequences=True, name='sentiment_LSTM_sequences')(sent_input)\n",
    "x1 = LSTM(4, name='sentiment_LSTM')(x1)\n",
    "x1 = Dense(4, name='sentiment_vector_representation')(x1)\n",
    "\n",
    "# prices Network\n",
    "x2 = LSTM(32, return_sequences=True, name='prices_LSTM_sequences')(price_input)\n",
    "x2 = LSTM(4, name='prices_LSTM')(x2)\n",
    "x2 = Dense(4, name='prices_vector_representation')(x2)\n",
    "\n",
    "# concatenate both\n",
    "out = Concatenate(axis=-1, name='merge')([x1, x2])\n",
    "\n",
    "# fully-connected\n",
    "out = Dense(1, name='output')(out)\n",
    "\n",
    "model = Model(inputs=[sent_input, price_input], outputs=out)\n",
    "\n",
    "# show model summary\n",
    "model.summary()"
   ]
  },
  {
   "cell_type": "code",
   "execution_count": 16,
   "id": "bdc9d758",
   "metadata": {
    "execution": {
     "iopub.execute_input": "2022-01-06T14:38:04.683793Z",
     "iopub.status.busy": "2022-01-06T14:38:04.683016Z",
     "iopub.status.idle": "2022-01-06T14:38:05.433852Z",
     "shell.execute_reply": "2022-01-06T14:38:05.433375Z",
     "shell.execute_reply.started": "2022-01-06T14:25:14.964017Z"
    },
    "papermill": {
     "duration": 0.775449,
     "end_time": "2022-01-06T14:38:05.433995",
     "exception": false,
     "start_time": "2022-01-06T14:38:04.658546",
     "status": "completed"
    },
    "tags": []
   },
   "outputs": [
    {
     "data": {
      "image/png": "[encoded data removed]",
      "text/plain": [
       "<IPython.core.display.Image object>"
      ]
     },
     "execution_count": 16,
     "metadata": {},
     "output_type": "execute_result"
    }
   ],
   "source": [
    "tf.keras.utils.plot_model(\n",
    "    model,\n",
    "    to_file=\"model.png\",\n",
    "    show_shapes=False,\n",
    "    show_dtype=False,\n",
    "    show_layer_names=True,\n",
    "    rankdir=\"TB\",\n",
    "    expand_nested=False,\n",
    "    dpi=96,\n",
    "    layer_range=None,\n",
    "    #show_layer_activations=False,\n",
    ")"
   ]
  },
  {
   "cell_type": "code",
   "execution_count": 17,
   "id": "1b6a4fd8",
   "metadata": {
    "execution": {
     "iopub.execute_input": "2022-01-06T14:38:05.490507Z",
     "iopub.status.busy": "2022-01-06T14:38:05.489591Z",
     "iopub.status.idle": "2022-01-06T14:40:02.664552Z",
     "shell.execute_reply": "2022-01-06T14:40:02.665088Z",
     "shell.execute_reply.started": "2022-01-06T14:35:36.338763Z"
    },
    "papermill": {
     "duration": 117.210013,
     "end_time": "2022-01-06T14:40:02.665252",
     "exception": false,
     "start_time": "2022-01-06T14:38:05.455239",
     "status": "completed"
    },
    "tags": []
   },
   "outputs": [
    {
     "name": "stdout",
     "output_type": "stream",
     "text": [
      "Epoch 1/1000\n",
      "23/23 [==============================] - 9s 78ms/step - loss: 0.0291 - val_loss: 0.0042\n",
      "Epoch 2/1000\n",
      "23/23 [==============================] - 1s 24ms/step - loss: 0.0122 - val_loss: 0.0042\n",
      "Epoch 3/1000\n",
      "23/23 [==============================] - 1s 23ms/step - loss: 0.0037 - val_loss: 0.0011\n",
      "Epoch 4/1000\n",
      "23/23 [==============================] - 1s 23ms/step - loss: 7.9886e-04 - val_loss: 7.8514e-04\n",
      "Epoch 5/1000\n",
      "23/23 [==============================] - 1s 23ms/step - loss: 9.2292e-04 - val_loss: 6.1425e-04\n",
      "Epoch 6/1000\n",
      "23/23 [==============================] - 1s 23ms/step - loss: 6.6959e-04 - val_loss: 4.6489e-04\n",
      "Epoch 7/1000\n",
      "23/23 [==============================] - 1s 29ms/step - loss: 6.4528e-04 - val_loss: 4.5385e-04\n",
      "Epoch 8/1000\n",
      "23/23 [==============================] - 1s 26ms/step - loss: 6.4820e-04 - val_loss: 4.2406e-04\n",
      "Epoch 9/1000\n",
      "23/23 [==============================] - 1s 24ms/step - loss: 5.8138e-04 - val_loss: 4.1560e-04\n",
      "Epoch 10/1000\n",
      "23/23 [==============================] - 1s 23ms/step - loss: 5.5978e-04 - val_loss: 4.0024e-04\n",
      "Epoch 11/1000\n",
      "23/23 [==============================] - 1s 23ms/step - loss: 5.4709e-04 - val_loss: 3.9002e-04\n",
      "Epoch 12/1000\n",
      "23/23 [==============================] - 1s 23ms/step - loss: 5.4181e-04 - val_loss: 3.8347e-04\n",
      "Epoch 13/1000\n",
      "23/23 [==============================] - 1s 23ms/step - loss: 5.3410e-04 - val_loss: 3.7726e-04\n",
      "Epoch 14/1000\n",
      "23/23 [==============================] - 1s 23ms/step - loss: 5.2545e-04 - val_loss: 3.6990e-04\n",
      "Epoch 15/1000\n",
      "23/23 [==============================] - 1s 23ms/step - loss: 5.1886e-04 - val_loss: 3.6343e-04\n",
      "Epoch 16/1000\n",
      "23/23 [==============================] - 1s 23ms/step - loss: 5.1359e-04 - val_loss: 3.5839e-04\n",
      "Epoch 17/1000\n",
      "23/23 [==============================] - 1s 23ms/step - loss: 5.0875e-04 - val_loss: 3.5378e-04\n",
      "Epoch 18/1000\n",
      "23/23 [==============================] - 1s 24ms/step - loss: 5.0427e-04 - val_loss: 3.4938e-04\n",
      "Epoch 19/1000\n",
      "23/23 [==============================] - 1s 23ms/step - loss: 5.0028e-04 - val_loss: 3.4543e-04\n",
      "Epoch 20/1000\n",
      "23/23 [==============================] - 1s 23ms/step - loss: 4.9671e-04 - val_loss: 3.4191e-04\n",
      "Epoch 21/1000\n",
      "23/23 [==============================] - 1s 23ms/step - loss: 4.9349e-04 - val_loss: 3.3871e-04\n",
      "Epoch 22/1000\n",
      "23/23 [==============================] - 1s 23ms/step - loss: 4.9057e-04 - val_loss: 3.3583e-04\n",
      "Epoch 23/1000\n",
      "23/23 [==============================] - 1s 23ms/step - loss: 4.8794e-04 - val_loss: 3.3322e-04\n",
      "Epoch 24/1000\n",
      "23/23 [==============================] - 1s 23ms/step - loss: 4.8555e-04 - val_loss: 3.3086e-04\n",
      "Epoch 25/1000\n",
      "23/23 [==============================] - 1s 23ms/step - loss: 4.8339e-04 - val_loss: 3.2872e-04\n",
      "Epoch 26/1000\n",
      "23/23 [==============================] - 1s 23ms/step - loss: 4.8144e-04 - val_loss: 3.2678e-04\n",
      "Epoch 27/1000\n",
      "23/23 [==============================] - 1s 28ms/step - loss: 4.7966e-04 - val_loss: 3.2503e-04\n",
      "Epoch 28/1000\n",
      "23/23 [==============================] - 1s 24ms/step - loss: 4.7805e-04 - val_loss: 3.2344e-04\n",
      "Epoch 29/1000\n",
      "23/23 [==============================] - 1s 24ms/step - loss: 4.7659e-04 - val_loss: 3.2200e-04\n",
      "Epoch 30/1000\n",
      "23/23 [==============================] - 1s 23ms/step - loss: 4.7526e-04 - val_loss: 3.2069e-04\n",
      "Epoch 31/1000\n",
      "23/23 [==============================] - 1s 23ms/step - loss: 4.7405e-04 - val_loss: 3.1950e-04\n",
      "Epoch 32/1000\n",
      "23/23 [==============================] - 1s 23ms/step - loss: 4.7295e-04 - val_loss: 3.1842e-04\n",
      "Epoch 33/1000\n",
      "23/23 [==============================] - 1s 23ms/step - loss: 4.7195e-04 - val_loss: 3.1744e-04\n",
      "Epoch 34/1000\n",
      "23/23 [==============================] - 1s 23ms/step - loss: 4.7104e-04 - val_loss: 3.1655e-04\n",
      "Epoch 35/1000\n",
      "23/23 [==============================] - 1s 23ms/step - loss: 4.7021e-04 - val_loss: 3.1573e-04\n",
      "Epoch 36/1000\n",
      "23/23 [==============================] - 1s 23ms/step - loss: 4.6946e-04 - val_loss: 3.1499e-04\n",
      "Epoch 37/1000\n",
      "23/23 [==============================] - 1s 24ms/step - loss: 4.6877e-04 - val_loss: 3.1432e-04\n",
      "Epoch 38/1000\n",
      "23/23 [==============================] - 1s 23ms/step - loss: 4.6815e-04 - val_loss: 3.1371e-04\n",
      "Epoch 39/1000\n",
      "23/23 [==============================] - 1s 23ms/step - loss: 4.6758e-04 - val_loss: 3.1315e-04\n",
      "Epoch 40/1000\n",
      "23/23 [==============================] - 1s 25ms/step - loss: 4.6706e-04 - val_loss: 3.1264e-04\n",
      "Epoch 41/1000\n",
      "23/23 [==============================] - 1s 23ms/step - loss: 4.6659e-04 - val_loss: 3.1218e-04\n",
      "Epoch 42/1000\n",
      "23/23 [==============================] - 1s 23ms/step - loss: 4.6616e-04 - val_loss: 3.1176e-04\n",
      "Epoch 43/1000\n",
      "23/23 [==============================] - 1s 23ms/step - loss: 4.6577e-04 - val_loss: 3.1138e-04\n",
      "Epoch 44/1000\n",
      "23/23 [==============================] - 1s 24ms/step - loss: 4.6541e-04 - val_loss: 3.1102e-04\n",
      "Epoch 45/1000\n",
      "23/23 [==============================] - 1s 24ms/step - loss: 4.6508e-04 - val_loss: 3.1071e-04\n",
      "Epoch 46/1000\n",
      "23/23 [==============================] - 1s 23ms/step - loss: 4.6479e-04 - val_loss: 3.1041e-04\n",
      "Epoch 47/1000\n",
      "23/23 [==============================] - 1s 30ms/step - loss: 4.6452e-04 - val_loss: 3.1015e-04\n",
      "Epoch 48/1000\n",
      "23/23 [==============================] - 1s 24ms/step - loss: 4.6427e-04 - val_loss: 3.0991e-04\n",
      "Epoch 49/1000\n",
      "23/23 [==============================] - 1s 24ms/step - loss: 4.6404e-04 - val_loss: 3.0968e-04\n",
      "Epoch 50/1000\n",
      "23/23 [==============================] - 1s 23ms/step - loss: 4.6384e-04 - val_loss: 3.0948e-04\n",
      "Epoch 51/1000\n",
      "23/23 [==============================] - 1s 24ms/step - loss: 4.6365e-04 - val_loss: 3.0930e-04\n",
      "Epoch 52/1000\n",
      "23/23 [==============================] - 1s 23ms/step - loss: 4.6348e-04 - val_loss: 3.0913e-04\n",
      "Epoch 53/1000\n",
      "23/23 [==============================] - 1s 23ms/step - loss: 4.6333e-04 - val_loss: 3.0898e-04\n",
      "Epoch 54/1000\n",
      "23/23 [==============================] - 1s 25ms/step - loss: 4.6319e-04 - val_loss: 3.0884e-04\n",
      "Epoch 55/1000\n",
      "23/23 [==============================] - 1s 23ms/step - loss: 4.6306e-04 - val_loss: 3.0871e-04\n",
      "Epoch 56/1000\n",
      "23/23 [==============================] - 1s 29ms/step - loss: 4.6294e-04 - val_loss: 3.0859e-04\n",
      "Epoch 57/1000\n",
      "23/23 [==============================] - 1s 30ms/step - loss: 4.6283e-04 - val_loss: 3.0849e-04\n",
      "Epoch 58/1000\n",
      "23/23 [==============================] - 1s 24ms/step - loss: 4.6274e-04 - val_loss: 3.0839e-04\n",
      "Epoch 59/1000\n",
      "23/23 [==============================] - 1s 24ms/step - loss: 4.6265e-04 - val_loss: 3.0830e-04\n",
      "Epoch 60/1000\n",
      "23/23 [==============================] - 1s 23ms/step - loss: 4.6257e-04 - val_loss: 3.0822e-04\n",
      "Epoch 61/1000\n",
      "23/23 [==============================] - 1s 24ms/step - loss: 4.6249e-04 - val_loss: 3.0815e-04\n",
      "Epoch 62/1000\n",
      "23/23 [==============================] - 1s 23ms/step - loss: 4.6243e-04 - val_loss: 3.0808e-04\n",
      "Epoch 63/1000\n",
      "23/23 [==============================] - 1s 23ms/step - loss: 4.6237e-04 - val_loss: 3.0802e-04\n",
      "Epoch 64/1000\n",
      "23/23 [==============================] - 1s 23ms/step - loss: 4.6231e-04 - val_loss: 3.0796e-04\n",
      "Epoch 65/1000\n",
      "23/23 [==============================] - 1s 23ms/step - loss: 4.6226e-04 - val_loss: 3.0791e-04\n",
      "Epoch 66/1000\n",
      "23/23 [==============================] - 1s 29ms/step - loss: 4.6221e-04 - val_loss: 3.0786e-04\n",
      "Epoch 67/1000\n",
      "23/23 [==============================] - 1s 25ms/step - loss: 4.6217e-04 - val_loss: 3.0782e-04\n",
      "Epoch 68/1000\n",
      "23/23 [==============================] - 1s 23ms/step - loss: 4.6213e-04 - val_loss: 3.0778e-04\n",
      "Epoch 69/1000\n",
      "23/23 [==============================] - 1s 23ms/step - loss: 4.6210e-04 - val_loss: 3.0775e-04\n",
      "Epoch 70/1000\n",
      "23/23 [==============================] - 1s 23ms/step - loss: 4.6207e-04 - val_loss: 3.0772e-04\n",
      "Epoch 71/1000\n",
      "23/23 [==============================] - 1s 24ms/step - loss: 4.6204e-04 - val_loss: 3.0769e-04\n",
      "Epoch 72/1000\n",
      "23/23 [==============================] - 1s 23ms/step - loss: 4.6201e-04 - val_loss: 3.0766e-04\n",
      "Epoch 73/1000\n",
      "23/23 [==============================] - 1s 23ms/step - loss: 4.6199e-04 - val_loss: 3.0764e-04\n",
      "Epoch 74/1000\n",
      "23/23 [==============================] - 1s 23ms/step - loss: 4.6197e-04 - val_loss: 3.0761e-04\n",
      "Epoch 75/1000\n",
      "23/23 [==============================] - 1s 23ms/step - loss: 4.6195e-04 - val_loss: 3.0759e-04\n",
      "Epoch 76/1000\n",
      "23/23 [==============================] - 1s 23ms/step - loss: 4.6193e-04 - val_loss: 3.0758e-04\n",
      "Epoch 77/1000\n",
      "23/23 [==============================] - 1s 23ms/step - loss: 4.6191e-04 - val_loss: 3.0756e-04\n",
      "Epoch 78/1000\n",
      "23/23 [==============================] - 1s 23ms/step - loss: 4.6190e-04 - val_loss: 3.0754e-04\n",
      "Epoch 79/1000\n",
      "23/23 [==============================] - 1s 23ms/step - loss: 4.6188e-04 - val_loss: 3.0753e-04\n",
      "Epoch 80/1000\n",
      "23/23 [==============================] - 1s 23ms/step - loss: 4.6187e-04 - val_loss: 3.0752e-04\n",
      "Epoch 81/1000\n",
      "23/23 [==============================] - 1s 23ms/step - loss: 4.6186e-04 - val_loss: 3.0751e-04\n",
      "Epoch 82/1000\n",
      "23/23 [==============================] - 1s 24ms/step - loss: 4.6185e-04 - val_loss: 3.0750e-04\n",
      "Epoch 83/1000\n",
      "23/23 [==============================] - 1s 23ms/step - loss: 4.6184e-04 - val_loss: 3.0749e-04\n",
      "Epoch 84/1000\n",
      "23/23 [==============================] - 1s 23ms/step - loss: 4.6183e-04 - val_loss: 3.0748e-04\n",
      "Epoch 85/1000\n",
      "23/23 [==============================] - 1s 23ms/step - loss: 4.6183e-04 - val_loss: 3.0747e-04\n",
      "Epoch 86/1000\n",
      "23/23 [==============================] - 1s 28ms/step - loss: 4.6182e-04 - val_loss: 3.0746e-04\n",
      "Epoch 87/1000\n",
      "23/23 [==============================] - 1s 26ms/step - loss: 4.6181e-04 - val_loss: 3.0746e-04\n",
      "Epoch 88/1000\n",
      "23/23 [==============================] - 1s 23ms/step - loss: 4.6181e-04 - val_loss: 3.0745e-04\n",
      "Epoch 89/1000\n",
      "23/23 [==============================] - 1s 24ms/step - loss: 4.6180e-04 - val_loss: 3.0745e-04\n",
      "Epoch 90/1000\n",
      "23/23 [==============================] - 1s 23ms/step - loss: 4.6180e-04 - val_loss: 3.0744e-04\n",
      "Epoch 91/1000\n",
      "23/23 [==============================] - 1s 23ms/step - loss: 4.6179e-04 - val_loss: 3.0744e-04\n",
      "Epoch 92/1000\n",
      "23/23 [==============================] - 1s 23ms/step - loss: 4.6179e-04 - val_loss: 3.0744e-04\n",
      "Epoch 93/1000\n",
      "23/23 [==============================] - 1s 23ms/step - loss: 4.6179e-04 - val_loss: 3.0743e-04\n",
      "Epoch 94/1000\n",
      "23/23 [==============================] - 1s 26ms/step - loss: 4.6178e-04 - val_loss: 3.0743e-04\n",
      "Epoch 95/1000\n",
      "23/23 [==============================] - 1s 24ms/step - loss: 4.6178e-04 - val_loss: 3.0743e-04\n",
      "Epoch 96/1000\n",
      "23/23 [==============================] - 1s 23ms/step - loss: 4.6178e-04 - val_loss: 3.0743e-04\n",
      "Epoch 97/1000\n",
      "23/23 [==============================] - 1s 23ms/step - loss: 4.6178e-04 - val_loss: 3.0742e-04\n",
      "Epoch 98/1000\n",
      "23/23 [==============================] - 1s 23ms/step - loss: 4.6178e-04 - val_loss: 3.0742e-04\n",
      "Epoch 99/1000\n",
      "23/23 [==============================] - 1s 23ms/step - loss: 4.6178e-04 - val_loss: 3.0742e-04\n",
      "Epoch 100/1000\n",
      "23/23 [==============================] - 1s 23ms/step - loss: 4.6177e-04 - val_loss: 3.0742e-04\n",
      "Epoch 101/1000\n",
      "23/23 [==============================] - 1s 23ms/step - loss: 4.6177e-04 - val_loss: 3.0742e-04\n",
      "Epoch 102/1000\n",
      "23/23 [==============================] - 1s 23ms/step - loss: 4.6177e-04 - val_loss: 3.0742e-04\n",
      "Epoch 103/1000\n",
      "23/23 [==============================] - 1s 23ms/step - loss: 4.6177e-04 - val_loss: 3.0742e-04\n",
      "Epoch 104/1000\n",
      "23/23 [==============================] - 1s 23ms/step - loss: 4.6177e-04 - val_loss: 3.0742e-04\n",
      "Epoch 105/1000\n",
      "23/23 [==============================] - 1s 23ms/step - loss: 4.6177e-04 - val_loss: 3.0742e-04\n",
      "Epoch 106/1000\n",
      "23/23 [==============================] - 1s 29ms/step - loss: 4.6177e-04 - val_loss: 3.0742e-04\n",
      "Epoch 107/1000\n",
      "23/23 [==============================] - 1s 24ms/step - loss: 4.6177e-04 - val_loss: 3.0742e-04\n",
      "Epoch 108/1000\n",
      "23/23 [==============================] - 1s 23ms/step - loss: 4.6177e-04 - val_loss: 3.0742e-04\n",
      "Epoch 109/1000\n",
      "23/23 [==============================] - 1s 23ms/step - loss: 4.6177e-04 - val_loss: 3.0742e-04\n",
      "Epoch 110/1000\n",
      "23/23 [==============================] - 1s 24ms/step - loss: 4.6177e-04 - val_loss: 3.0742e-04\n",
      "Epoch 111/1000\n",
      "23/23 [==============================] - 1s 23ms/step - loss: 4.6177e-04 - val_loss: 3.0742e-04\n",
      "Epoch 112/1000\n",
      "23/23 [==============================] - 1s 23ms/step - loss: 4.6177e-04 - val_loss: 3.0742e-04\n",
      "Epoch 113/1000\n",
      "23/23 [==============================] - 1s 23ms/step - loss: 4.6177e-04 - val_loss: 3.0742e-04\n",
      "Epoch 114/1000\n",
      "23/23 [==============================] - 1s 23ms/step - loss: 4.6177e-04 - val_loss: 3.0741e-04\n",
      "Epoch 115/1000\n",
      "23/23 [==============================] - 1s 24ms/step - loss: 4.6177e-04 - val_loss: 3.0741e-04\n",
      "Epoch 116/1000\n",
      "23/23 [==============================] - 1s 33ms/step - loss: 4.6177e-04 - val_loss: 3.0741e-04\n",
      "Epoch 117/1000\n",
      "23/23 [==============================] - 1s 28ms/step - loss: 4.6177e-04 - val_loss: 3.0741e-04\n",
      "Epoch 118/1000\n",
      "23/23 [==============================] - 1s 23ms/step - loss: 4.6177e-04 - val_loss: 3.0741e-04\n",
      "Epoch 119/1000\n",
      "23/23 [==============================] - 1s 23ms/step - loss: 4.6177e-04 - val_loss: 3.0741e-04\n",
      "Epoch 120/1000\n",
      "23/23 [==============================] - 1s 23ms/step - loss: 4.6177e-04 - val_loss: 3.0741e-04\n",
      "Epoch 121/1000\n",
      "23/23 [==============================] - 1s 24ms/step - loss: 4.6177e-04 - val_loss: 3.0741e-04\n",
      "Epoch 122/1000\n",
      "23/23 [==============================] - 1s 23ms/step - loss: 4.6177e-04 - val_loss: 3.0741e-04\n",
      "Epoch 123/1000\n",
      "23/23 [==============================] - 1s 23ms/step - loss: 4.6177e-04 - val_loss: 3.0741e-04\n",
      "Epoch 124/1000\n",
      "23/23 [==============================] - 1s 23ms/step - loss: 4.6177e-04 - val_loss: 3.0741e-04\n",
      "Epoch 125/1000\n",
      "23/23 [==============================] - 1s 28ms/step - loss: 4.6177e-04 - val_loss: 3.0741e-04\n",
      "Epoch 126/1000\n",
      "23/23 [==============================] - 1s 29ms/step - loss: 4.6177e-04 - val_loss: 3.0741e-04\n",
      "Epoch 127/1000\n",
      "23/23 [==============================] - 1s 24ms/step - loss: 4.6177e-04 - val_loss: 3.0741e-04\n",
      "Epoch 128/1000\n",
      "23/23 [==============================] - 1s 24ms/step - loss: 4.6177e-04 - val_loss: 3.0741e-04\n",
      "Epoch 129/1000\n",
      "23/23 [==============================] - 1s 24ms/step - loss: 4.6177e-04 - val_loss: 3.0741e-04\n",
      "Epoch 130/1000\n",
      "23/23 [==============================] - 1s 24ms/step - loss: 4.6177e-04 - val_loss: 3.0741e-04\n",
      "Epoch 131/1000\n",
      "23/23 [==============================] - 1s 23ms/step - loss: 4.6177e-04 - val_loss: 3.0741e-04\n",
      "Epoch 132/1000\n",
      "23/23 [==============================] - 1s 23ms/step - loss: 4.6177e-04 - val_loss: 3.0741e-04\n",
      "Epoch 133/1000\n",
      "23/23 [==============================] - 1s 23ms/step - loss: 4.6177e-04 - val_loss: 3.0741e-04\n",
      "Epoch 134/1000\n",
      "23/23 [==============================] - 1s 23ms/step - loss: 4.6177e-04 - val_loss: 3.0741e-04\n",
      "Epoch 135/1000\n",
      "23/23 [==============================] - 1s 23ms/step - loss: 4.6177e-04 - val_loss: 3.0741e-04\n",
      "Epoch 136/1000\n",
      "23/23 [==============================] - 1s 23ms/step - loss: 4.6177e-04 - val_loss: 3.0741e-04\n",
      "Epoch 137/1000\n",
      "23/23 [==============================] - 1s 23ms/step - loss: 4.6177e-04 - val_loss: 3.0741e-04\n",
      "Epoch 138/1000\n",
      "23/23 [==============================] - 1s 23ms/step - loss: 4.6177e-04 - val_loss: 3.0741e-04\n",
      "Epoch 139/1000\n",
      "23/23 [==============================] - 1s 23ms/step - loss: 4.6177e-04 - val_loss: 3.0741e-04\n",
      "Epoch 140/1000\n",
      "23/23 [==============================] - 1s 23ms/step - loss: 4.6177e-04 - val_loss: 3.0741e-04\n",
      "Epoch 141/1000\n",
      "23/23 [==============================] - 1s 23ms/step - loss: 4.6177e-04 - val_loss: 3.0741e-04\n",
      "Epoch 142/1000\n",
      "23/23 [==============================] - 1s 23ms/step - loss: 4.6177e-04 - val_loss: 3.0741e-04\n",
      "Epoch 143/1000\n",
      "23/23 [==============================] - 1s 24ms/step - loss: 4.6177e-04 - val_loss: 3.0741e-04\n",
      "Epoch 144/1000\n",
      "23/23 [==============================] - 1s 23ms/step - loss: 4.6177e-04 - val_loss: 3.0741e-04\n",
      "Epoch 145/1000\n",
      "23/23 [==============================] - 1s 27ms/step - loss: 4.6177e-04 - val_loss: 3.0741e-04\n",
      "Epoch 146/1000\n",
      "23/23 [==============================] - 1s 26ms/step - loss: 4.6177e-04 - val_loss: 3.0741e-04\n",
      "Epoch 147/1000\n",
      "23/23 [==============================] - 1s 23ms/step - loss: 4.6177e-04 - val_loss: 3.0741e-04\n",
      "Epoch 148/1000\n",
      "23/23 [==============================] - 1s 23ms/step - loss: 4.6177e-04 - val_loss: 3.0741e-04\n",
      "Epoch 149/1000\n",
      "23/23 [==============================] - 1s 29ms/step - loss: 4.6177e-04 - val_loss: 3.0741e-04\n",
      "Epoch 150/1000\n",
      "23/23 [==============================] - 1s 24ms/step - loss: 4.6177e-04 - val_loss: 3.0741e-04\n",
      "Epoch 151/1000\n",
      "23/23 [==============================] - 1s 23ms/step - loss: 4.6177e-04 - val_loss: 3.0741e-04\n",
      "Epoch 152/1000\n",
      "23/23 [==============================] - 1s 23ms/step - loss: 4.6177e-04 - val_loss: 3.0741e-04\n",
      "Epoch 153/1000\n",
      "23/23 [==============================] - 1s 23ms/step - loss: 4.6177e-04 - val_loss: 3.0741e-04\n",
      "Epoch 154/1000\n",
      "23/23 [==============================] - 1s 23ms/step - loss: 4.6177e-04 - val_loss: 3.0741e-04\n",
      "Epoch 155/1000\n",
      "23/23 [==============================] - 1s 23ms/step - loss: 4.6177e-04 - val_loss: 3.0741e-04\n",
      "Epoch 156/1000\n",
      "23/23 [==============================] - 1s 23ms/step - loss: 4.6177e-04 - val_loss: 3.0741e-04\n",
      "Epoch 157/1000\n",
      "23/23 [==============================] - 1s 23ms/step - loss: 4.6177e-04 - val_loss: 3.0741e-04\n",
      "Epoch 158/1000\n",
      "23/23 [==============================] - 1s 23ms/step - loss: 4.6177e-04 - val_loss: 3.0741e-04\n",
      "Epoch 159/1000\n",
      "23/23 [==============================] - 1s 23ms/step - loss: 4.6177e-04 - val_loss: 3.0741e-04\n",
      "Epoch 160/1000\n",
      "23/23 [==============================] - 1s 23ms/step - loss: 4.6177e-04 - val_loss: 3.0741e-04\n",
      "Epoch 161/1000\n",
      "23/23 [==============================] - 1s 24ms/step - loss: 4.6177e-04 - val_loss: 3.0741e-04\n",
      "Epoch 162/1000\n",
      "23/23 [==============================] - 1s 23ms/step - loss: 4.6177e-04 - val_loss: 3.0741e-04\n",
      "Epoch 163/1000\n",
      "23/23 [==============================] - 1s 23ms/step - loss: 4.6177e-04 - val_loss: 3.0741e-04\n",
      "Epoch 164/1000\n",
      "23/23 [==============================] - 1s 23ms/step - loss: 4.6177e-04 - val_loss: 3.0741e-04\n",
      "Epoch 165/1000\n",
      "23/23 [==============================] - 1s 27ms/step - loss: 4.6177e-04 - val_loss: 3.0741e-04\n",
      "Epoch 166/1000\n",
      "23/23 [==============================] - 1s 26ms/step - loss: 4.6177e-04 - val_loss: 3.0741e-04\n",
      "Epoch 167/1000\n",
      "23/23 [==============================] - 1s 23ms/step - loss: 4.6177e-04 - val_loss: 3.0741e-04\n",
      "Epoch 168/1000\n",
      "23/23 [==============================] - 1s 23ms/step - loss: 4.6177e-04 - val_loss: 3.0741e-04\n",
      "Epoch 169/1000\n",
      "23/23 [==============================] - 1s 23ms/step - loss: 4.6177e-04 - val_loss: 3.0741e-04\n",
      "Epoch 170/1000\n",
      "23/23 [==============================] - 1s 23ms/step - loss: 4.6177e-04 - val_loss: 3.0741e-04\n",
      "Epoch 171/1000\n",
      "23/23 [==============================] - 1s 23ms/step - loss: 4.6177e-04 - val_loss: 3.0741e-04\n",
      "Epoch 172/1000\n",
      "23/23 [==============================] - 1s 23ms/step - loss: 4.6177e-04 - val_loss: 3.0741e-04\n",
      "Epoch 173/1000\n",
      "23/23 [==============================] - 1s 23ms/step - loss: 4.6177e-04 - val_loss: 3.0741e-04\n",
      "Epoch 174/1000\n",
      "23/23 [==============================] - 1s 23ms/step - loss: 4.6177e-04 - val_loss: 3.0741e-04\n",
      "Epoch 175/1000\n",
      "23/23 [==============================] - 1s 23ms/step - loss: 4.6177e-04 - val_loss: 3.0741e-04\n",
      "Epoch 176/1000\n",
      "23/23 [==============================] - 1s 29ms/step - loss: 4.6177e-04 - val_loss: 3.0741e-04\n",
      "Epoch 177/1000\n",
      "23/23 [==============================] - 1s 30ms/step - loss: 4.6177e-04 - val_loss: 3.0741e-04\n",
      "Epoch 178/1000\n",
      "23/23 [==============================] - 1s 23ms/step - loss: 4.6177e-04 - val_loss: 3.0741e-04\n",
      "Epoch 179/1000\n",
      "23/23 [==============================] - 1s 24ms/step - loss: 4.6177e-04 - val_loss: 3.0741e-04\n",
      "Epoch 180/1000\n",
      "23/23 [==============================] - 1s 23ms/step - loss: 4.6177e-04 - val_loss: 3.0741e-04\n",
      "Epoch 181/1000\n",
      "23/23 [==============================] - 1s 23ms/step - loss: 4.6177e-04 - val_loss: 3.0741e-04\n",
      "Epoch 182/1000\n",
      "23/23 [==============================] - 1s 23ms/step - loss: 4.6177e-04 - val_loss: 3.0741e-04\n",
      "Epoch 183/1000\n",
      "23/23 [==============================] - 1s 23ms/step - loss: 4.6177e-04 - val_loss: 3.0741e-04\n",
      "Epoch 184/1000\n",
      "23/23 [==============================] - 1s 23ms/step - loss: 4.6177e-04 - val_loss: 3.0741e-04\n",
      "Epoch 185/1000\n",
      "23/23 [==============================] - 1s 30ms/step - loss: 4.6177e-04 - val_loss: 3.0741e-04\n",
      "Epoch 186/1000\n",
      "23/23 [==============================] - 1s 24ms/step - loss: 4.6177e-04 - val_loss: 3.0741e-04\n",
      "Epoch 187/1000\n",
      "23/23 [==============================] - 1s 23ms/step - loss: 4.6177e-04 - val_loss: 3.0741e-04\n",
      "Epoch 188/1000\n",
      "23/23 [==============================] - 1s 24ms/step - loss: 4.6177e-04 - val_loss: 3.0741e-04\n",
      "Epoch 189/1000\n",
      "23/23 [==============================] - 1s 23ms/step - loss: 4.6177e-04 - val_loss: 3.0741e-04\n",
      "Epoch 190/1000\n",
      "23/23 [==============================] - 1s 23ms/step - loss: 4.6177e-04 - val_loss: 3.0741e-04\n",
      "Epoch 191/1000\n",
      "23/23 [==============================] - 1s 23ms/step - loss: 4.6177e-04 - val_loss: 3.0741e-04\n",
      "Epoch 192/1000\n",
      "23/23 [==============================] - 1s 23ms/step - loss: 4.6177e-04 - val_loss: 3.0741e-04\n",
      "Epoch 193/1000\n",
      "23/23 [==============================] - 1s 23ms/step - loss: 4.6177e-04 - val_loss: 3.0741e-04\n",
      "Epoch 194/1000\n",
      "23/23 [==============================] - 1s 23ms/step - loss: 4.6177e-04 - val_loss: 3.0741e-04\n",
      "Epoch 195/1000\n",
      "23/23 [==============================] - 1s 23ms/step - loss: 4.6177e-04 - val_loss: 3.0741e-04\n",
      "Epoch 196/1000\n",
      "23/23 [==============================] - 1s 23ms/step - loss: 4.6177e-04 - val_loss: 3.0741e-04\n",
      "Restoring model weights from the end of the best epoch.\n",
      "Epoch 00196: early stopping\n"
     ]
    }
   ],
   "source": [
    "# model callbacks\n",
    "es = EarlyStopping(monitor='val_loss', mode='min', verbose=1, patience=50, restore_best_weights=True)\n",
    "reduce_lr = LearningRateScheduler(lambda x: 1e-3 * 0.90 ** x)\n",
    "\n",
    "# loss function\n",
    "huber_loss = tf.keras.losses.Huber()\n",
    "model.compile(loss=huber_loss, optimizer=Adam(learning_rate=0.1))\n",
    "\n",
    "# Traning\n",
    "history = model.fit([X_train_sent, X_train_price], y_train_price,\n",
    "                    validation_data=([X_test_sent, X_test_price], y_test_price), \n",
    "                    batch_size=256,\n",
    "                    shuffle=False,\n",
    "                    callbacks=[es, reduce_lr],\n",
    "                    epochs=1000,\n",
    "                    verbose=1,\n",
    "                   )"
   ]
  },
  {
   "cell_type": "code",
   "execution_count": 18,
   "id": "709447b2",
   "metadata": {
    "execution": {
     "iopub.execute_input": "2022-01-06T14:40:03.717982Z",
     "iopub.status.busy": "2022-01-06T14:40:03.717422Z",
     "iopub.status.idle": "2022-01-06T14:40:32.286280Z",
     "shell.execute_reply": "2022-01-06T14:40:32.285518Z",
     "shell.execute_reply.started": "2022-01-06T14:37:11.778232Z"
    },
    "papermill": {
     "duration": 29.100841,
     "end_time": "2022-01-06T14:40:32.286424",
     "exception": false,
     "start_time": "2022-01-06T14:40:03.185583",
     "status": "completed"
    },
    "tags": []
   },
   "outputs": [
    {
     "data": {
      "image/png": "[encoded data removed]",
      "text/plain": [
       "<Figure size 864x432 with 1 Axes>"
      ]
     },
     "metadata": {
      "needs_background": "light"
     },
     "output_type": "display_data"
    }
   ],
   "source": [
    "# summarize history for loss\n",
    "plt.figure(figsize=(12, 6))\n",
    "plt.plot(history.history['loss'])\n",
    "plt.plot(history.history['val_loss'])\n",
    "plt.title(f\"Model Loss\\n Error: [{np.min(history.history['val_loss'])}]\")\n",
    "plt.ylabel('loss')\n",
    "plt.xlabel('epoch')\n",
    "plt.legend(['train', 'test'], loc='upper left')\n",
    "plt.show()"
   ]
  },
  {
   "cell_type": "markdown",
   "id": "8a44cc18",
   "metadata": {
    "papermill": {
     "duration": 0.532286,
     "end_time": "2022-01-06T14:40:33.346982",
     "exception": false,
     "start_time": "2022-01-06T14:40:32.814696",
     "status": "completed"
    },
    "tags": []
   },
   "source": [
    "## Predictions"
   ]
  },
  {
   "cell_type": "code",
   "execution_count": 19,
   "id": "cf23803b",
   "metadata": {
    "execution": {
     "iopub.execute_input": "2022-01-06T14:40:34.390334Z",
     "iopub.status.busy": "2022-01-06T14:40:34.389345Z",
     "iopub.status.idle": "2022-01-06T14:40:35.533320Z",
     "shell.execute_reply": "2022-01-06T14:40:35.533859Z",
     "shell.execute_reply.started": "2022-01-06T14:37:11.997743Z"
    },
    "papermill": {
     "duration": 1.669209,
     "end_time": "2022-01-06T14:40:35.534070",
     "exception": false,
     "start_time": "2022-01-06T14:40:33.864861",
     "status": "completed"
    },
    "tags": []
   },
   "outputs": [
    {
     "name": "stdout",
     "output_type": "stream",
     "text": [
      "Real Mean-Aabsolute-Error: 0.004258592293352311\n"
     ]
    }
   ],
   "source": [
    "# predict and compare\n",
    "pred = target_scaler.inverse_transform(model.predict([X_test_sent, X_test_price]))\n",
    "true = target_scaler.inverse_transform(y_test_price)\n",
    "\n",
    "print('Real Mean-Aabsolute-Error:', np.mean(abs(pred-true)))"
   ]
  },
  {
   "cell_type": "code",
   "execution_count": 20,
   "id": "c5c2968a",
   "metadata": {
    "execution": {
     "iopub.execute_input": "2022-01-06T14:40:36.607689Z",
     "iopub.status.busy": "2022-01-06T14:40:36.594545Z",
     "iopub.status.idle": "2022-01-06T14:40:36.812380Z",
     "shell.execute_reply": "2022-01-06T14:40:36.812789Z",
     "shell.execute_reply.started": "2022-01-06T14:37:13.099228Z"
    },
    "papermill": {
     "duration": 0.75404,
     "end_time": "2022-01-06T14:40:36.812950",
     "exception": false,
     "start_time": "2022-01-06T14:40:36.058910",
     "status": "completed"
    },
    "tags": []
   },
   "outputs": [
    {
     "data": {
      "image/png": "[encoded data removed]",
      "text/plain": [
       "<Figure size 864x432 with 1 Axes>"
      ]
     },
     "metadata": {
      "needs_background": "light"
     },
     "output_type": "display_data"
    }
   ],
   "source": [
    "# plot the results\n",
    "plt.figure(figsize=(12, 6))\n",
    "plt.plot(true, label='True');\n",
    "plt.plot(pred, label='Pred')\n",
    "plt.title(f'Dogecoin-Prices Combine Models Predictions', fontsize=14)\n",
    "plt.legend();"
   ]
  },
  {
   "cell_type": "markdown",
   "id": "2d648f42",
   "metadata": {
    "papermill": {
     "duration": 0.529852,
     "end_time": "2022-01-06T14:40:37.865258",
     "exception": false,
     "start_time": "2022-01-06T14:40:37.335406",
     "status": "completed"
    },
    "tags": []
   },
   "source": [
    "## Conclusion:\n",
    "\n",
    "**The Real Mean-Aabsolute-Error is very good, also predictions fit very well, even better than each model alone.**"
   ]
  },
  {
   "cell_type": "code",
   "execution_count": null,
   "id": "d0729fe0",
   "metadata": {
    "papermill": {
     "duration": 0.518954,
     "end_time": "2022-01-06T14:40:38.914229",
     "exception": false,
     "start_time": "2022-01-06T14:40:38.395275",
     "status": "completed"
    },
    "tags": []
   },
   "outputs": [],
   "source": []
  }
 ],
 "metadata": {
  "kernelspec": {
   "display_name": "Python 3",
   "language": "python",
   "name": "python3"
  },
  "language_info": {
   "codemirror_mode": {
    "name": "ipython",
    "version": 3
   },
   "file_extension": ".py",
   "mimetype": "text/x-python",
   "name": "python",
   "nbconvert_exporter": "python",
   "pygments_lexer": "ipython3",
   "version": "3.7.12"
  },
  "papermill": {
   "default_parameters": {},
   "duration": 177.525618,
   "end_time": "2022-01-06T14:40:43.085649",
   "environment_variables": {},
   "exception": null,
   "input_path": "__notebook__.ipynb",
   "output_path": "__notebook__.ipynb",
   "parameters": {},
   "start_time": "2022-01-06T14:37:45.560031",
   "version": "2.3.3"
  }
 },
 "nbformat": 4,
 "nbformat_minor": 5
}
