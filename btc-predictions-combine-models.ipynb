{
 "cells": [
  {
   "cell_type": "code",
   "execution_count": 1,
   "id": "9d1f89b8",
   "metadata": {
    "execution": {
     "iopub.execute_input": "2022-01-06T14:33:13.726648Z",
     "iopub.status.busy": "2022-01-06T14:33:13.724554Z",
     "iopub.status.idle": "2022-01-06T14:33:13.737206Z",
     "shell.execute_reply": "2022-01-06T14:33:13.737695Z",
     "shell.execute_reply.started": "2022-01-06T14:04:49.632396Z"
    },
    "papermill": {
     "duration": 0.044674,
     "end_time": "2022-01-06T14:33:13.737992",
     "exception": false,
     "start_time": "2022-01-06T14:33:13.693318",
     "status": "completed"
    },
    "tags": []
   },
   "outputs": [],
   "source": [
    "import os\n",
    "\n",
    "os.environ['TF_CPP_MIN_LOG_LEVEL'] = '3'"
   ]
  },
  {
   "cell_type": "code",
   "execution_count": 2,
   "id": "153551db",
   "metadata": {
    "_cell_guid": "b1076dfc-b9ad-4769-8c92-a6c4dae69d19",
    "_uuid": "8f2839f25d086af736a60e9eeb907d3b93b6e0e5",
    "execution": {
     "iopub.execute_input": "2022-01-06T14:33:13.795667Z",
     "iopub.status.busy": "2022-01-06T14:33:13.794614Z",
     "iopub.status.idle": "2022-01-06T14:33:13.797916Z",
     "shell.execute_reply": "2022-01-06T14:33:13.797357Z",
     "shell.execute_reply.started": "2022-01-06T14:04:49.638615Z"
    },
    "papermill": {
     "duration": 0.03254,
     "end_time": "2022-01-06T14:33:13.798051",
     "exception": false,
     "start_time": "2022-01-06T14:33:13.765511",
     "status": "completed"
    },
    "tags": []
   },
   "outputs": [],
   "source": [
    "import os\n",
    "\n",
    "import numpy as np\n",
    "import pandas as pd\n",
    "\n",
    "import matplotlib.pyplot as plt"
   ]
  },
  {
   "cell_type": "code",
   "execution_count": 3,
   "id": "a08413cc",
   "metadata": {
    "execution": {
     "iopub.execute_input": "2022-01-06T14:33:13.853150Z",
     "iopub.status.busy": "2022-01-06T14:33:13.852509Z",
     "iopub.status.idle": "2022-01-06T14:33:15.651523Z",
     "shell.execute_reply": "2022-01-06T14:33:15.652283Z",
     "shell.execute_reply.started": "2022-01-06T14:04:49.651777Z"
    },
    "papermill": {
     "duration": 1.83021,
     "end_time": "2022-01-06T14:33:15.652505",
     "exception": false,
     "start_time": "2022-01-06T14:33:13.822295",
     "status": "completed"
    },
    "tags": []
   },
   "outputs": [
    {
     "data": {
      "text/html": [
       "<div>\n",
       "<style scoped>\n",
       "    .dataframe tbody tr th:only-of-type {\n",
       "        vertical-align: middle;\n",
       "    }\n",
       "\n",
       "    .dataframe tbody tr th {\n",
       "        vertical-align: top;\n",
       "    }\n",
       "\n",
       "    .dataframe thead th {\n",
       "        text-align: right;\n",
       "    }\n",
       "</style>\n",
       "<table border=\"1\" class=\"dataframe\">\n",
       "  <thead>\n",
       "    <tr style=\"text-align: right;\">\n",
       "      <th></th>\n",
       "      <th>date</th>\n",
       "      <th>vader_negative</th>\n",
       "      <th>vader_neutral</th>\n",
       "      <th>vader_positive</th>\n",
       "      <th>tweet_length</th>\n",
       "      <th>vader_scale</th>\n",
       "      <th>tweets_vol</th>\n",
       "      <th>Close</th>\n",
       "    </tr>\n",
       "  </thead>\n",
       "  <tbody>\n",
       "    <tr>\n",
       "      <th>0</th>\n",
       "      <td>2021-02-05 10:00:00</td>\n",
       "      <td>0.000</td>\n",
       "      <td>9.207</td>\n",
       "      <td>0.793</td>\n",
       "      <td>161.0</td>\n",
       "      <td>35.0</td>\n",
       "      <td>10.0</td>\n",
       "      <td>37481.900629</td>\n",
       "    </tr>\n",
       "    <tr>\n",
       "      <th>1</th>\n",
       "      <td>2021-02-05 11:00:00</td>\n",
       "      <td>0.961</td>\n",
       "      <td>36.106</td>\n",
       "      <td>2.933</td>\n",
       "      <td>616.0</td>\n",
       "      <td>135.0</td>\n",
       "      <td>40.0</td>\n",
       "      <td>37607.173100</td>\n",
       "    </tr>\n",
       "    <tr>\n",
       "      <th>2</th>\n",
       "      <td>2021-02-05 12:00:00</td>\n",
       "      <td>0.959</td>\n",
       "      <td>58.419</td>\n",
       "      <td>6.622</td>\n",
       "      <td>1041.0</td>\n",
       "      <td>215.0</td>\n",
       "      <td>66.0</td>\n",
       "      <td>37876.993022</td>\n",
       "    </tr>\n",
       "    <tr>\n",
       "      <th>3</th>\n",
       "      <td>2021-02-05 13:00:00</td>\n",
       "      <td>1.407</td>\n",
       "      <td>53.897</td>\n",
       "      <td>3.696</td>\n",
       "      <td>920.0</td>\n",
       "      <td>204.0</td>\n",
       "      <td>59.0</td>\n",
       "      <td>37984.115288</td>\n",
       "    </tr>\n",
       "    <tr>\n",
       "      <th>4</th>\n",
       "      <td>2021-02-05 14:00:00</td>\n",
       "      <td>1.039</td>\n",
       "      <td>69.741</td>\n",
       "      <td>4.220</td>\n",
       "      <td>1116.0</td>\n",
       "      <td>266.0</td>\n",
       "      <td>75.0</td>\n",
       "      <td>38161.923202</td>\n",
       "    </tr>\n",
       "  </tbody>\n",
       "</table>\n",
       "</div>"
      ],
      "text/plain": [
       "                  date  vader_negative  vader_neutral  vader_positive  \\\n",
       "0  2021-02-05 10:00:00           0.000          9.207           0.793   \n",
       "1  2021-02-05 11:00:00           0.961         36.106           2.933   \n",
       "2  2021-02-05 12:00:00           0.959         58.419           6.622   \n",
       "3  2021-02-05 13:00:00           1.407         53.897           3.696   \n",
       "4  2021-02-05 14:00:00           1.039         69.741           4.220   \n",
       "\n",
       "   tweet_length  vader_scale  tweets_vol         Close  \n",
       "0         161.0         35.0        10.0  37481.900629  \n",
       "1         616.0        135.0        40.0  37607.173100  \n",
       "2        1041.0        215.0        66.0  37876.993022  \n",
       "3         920.0        204.0        59.0  37984.115288  \n",
       "4        1116.0        266.0        75.0  38161.923202  "
      ]
     },
     "execution_count": 3,
     "metadata": {},
     "output_type": "execute_result"
    }
   ],
   "source": [
    "prices = pd.read_csv('../input/btc2021/full_data__1__2021.csv/full_data__1__2021.csv')\n",
    "sentiment = pd.read_csv('../input/btc2021/BTC-tweets-sentiment-prices.csv')\n",
    "\n",
    "sentiment.head()"
   ]
  },
  {
   "cell_type": "code",
   "execution_count": 4,
   "id": "e67a00ce",
   "metadata": {
    "execution": {
     "iopub.execute_input": "2022-01-06T14:33:15.718976Z",
     "iopub.status.busy": "2022-01-06T14:33:15.717980Z",
     "iopub.status.idle": "2022-01-06T14:33:15.721958Z",
     "shell.execute_reply": "2022-01-06T14:33:15.722626Z",
     "shell.execute_reply.started": "2022-01-06T14:04:50.433169Z"
    },
    "papermill": {
     "duration": 0.041054,
     "end_time": "2022-01-06T14:33:15.722884",
     "exception": false,
     "start_time": "2022-01-06T14:33:15.681830",
     "status": "completed"
    },
    "tags": []
   },
   "outputs": [
    {
     "data": {
      "text/plain": [
       "(7886, 8)"
      ]
     },
     "execution_count": 4,
     "metadata": {},
     "output_type": "execute_result"
    }
   ],
   "source": [
    "sentiment.shape"
   ]
  },
  {
   "cell_type": "code",
   "execution_count": 5,
   "id": "74d84cdb",
   "metadata": {
    "execution": {
     "iopub.execute_input": "2022-01-06T14:33:15.788263Z",
     "iopub.status.busy": "2022-01-06T14:33:15.785506Z",
     "iopub.status.idle": "2022-01-06T14:33:15.797721Z",
     "shell.execute_reply": "2022-01-06T14:33:15.796973Z",
     "shell.execute_reply.started": "2022-01-06T14:04:50.442623Z"
    },
    "papermill": {
     "duration": 0.046509,
     "end_time": "2022-01-06T14:33:15.797910",
     "exception": false,
     "start_time": "2022-01-06T14:33:15.751401",
     "status": "completed"
    },
    "tags": []
   },
   "outputs": [
    {
     "data": {
      "text/plain": [
       "date                0\n",
       "vader_negative      0\n",
       "vader_neutral       0\n",
       "vader_positive      0\n",
       "tweet_length        0\n",
       "vader_scale         0\n",
       "tweets_vol          0\n",
       "Close             192\n",
       "dtype: int64"
      ]
     },
     "execution_count": 5,
     "metadata": {},
     "output_type": "execute_result"
    }
   ],
   "source": [
    "sentiment.isna().sum()"
   ]
  },
  {
   "cell_type": "code",
   "execution_count": 6,
   "id": "6f212ea7",
   "metadata": {
    "execution": {
     "iopub.execute_input": "2022-01-06T14:33:15.868113Z",
     "iopub.status.busy": "2022-01-06T14:33:15.864400Z",
     "iopub.status.idle": "2022-01-06T14:33:15.876650Z",
     "shell.execute_reply": "2022-01-06T14:33:15.876052Z",
     "shell.execute_reply.started": "2022-01-06T14:04:50.455206Z"
    },
    "papermill": {
     "duration": 0.049237,
     "end_time": "2022-01-06T14:33:15.876859",
     "exception": false,
     "start_time": "2022-01-06T14:33:15.827622",
     "status": "completed"
    },
    "tags": []
   },
   "outputs": [],
   "source": [
    "sentiment.dropna(axis=0, inplace=True)"
   ]
  },
  {
   "cell_type": "code",
   "execution_count": 7,
   "id": "9b1e6b96",
   "metadata": {
    "execution": {
     "iopub.execute_input": "2022-01-06T14:33:15.943519Z",
     "iopub.status.busy": "2022-01-06T14:33:15.942669Z",
     "iopub.status.idle": "2022-01-06T14:33:15.946426Z",
     "shell.execute_reply": "2022-01-06T14:33:15.947030Z",
     "shell.execute_reply.started": "2022-01-06T14:04:50.465979Z"
    },
    "papermill": {
     "duration": 0.040407,
     "end_time": "2022-01-06T14:33:15.947333",
     "exception": false,
     "start_time": "2022-01-06T14:33:15.906926",
     "status": "completed"
    },
    "tags": []
   },
   "outputs": [
    {
     "data": {
      "text/plain": [
       "(7694, 8)"
      ]
     },
     "execution_count": 7,
     "metadata": {},
     "output_type": "execute_result"
    }
   ],
   "source": [
    "sentiment.shape"
   ]
  },
  {
   "cell_type": "code",
   "execution_count": 8,
   "id": "5abd05f0",
   "metadata": {
    "execution": {
     "iopub.execute_input": "2022-01-06T14:33:16.017758Z",
     "iopub.status.busy": "2022-01-06T14:33:16.017017Z",
     "iopub.status.idle": "2022-01-06T14:33:16.021127Z",
     "shell.execute_reply": "2022-01-06T14:33:16.022233Z",
     "shell.execute_reply.started": "2022-01-06T14:04:50.473510Z"
    },
    "papermill": {
     "duration": 0.044926,
     "end_time": "2022-01-06T14:33:16.022442",
     "exception": false,
     "start_time": "2022-01-06T14:33:15.977516",
     "status": "completed"
    },
    "tags": []
   },
   "outputs": [],
   "source": [
    "sentiment.set_index('date', inplace=True)"
   ]
  },
  {
   "cell_type": "code",
   "execution_count": 9,
   "id": "2af3d79a",
   "metadata": {
    "execution": {
     "iopub.execute_input": "2022-01-06T14:33:16.098047Z",
     "iopub.status.busy": "2022-01-06T14:33:16.097177Z",
     "iopub.status.idle": "2022-01-06T14:33:16.101282Z",
     "shell.execute_reply": "2022-01-06T14:33:16.101945Z",
     "shell.execute_reply.started": "2022-01-06T14:04:50.481806Z"
    },
    "papermill": {
     "duration": 0.049487,
     "end_time": "2022-01-06T14:33:16.102107",
     "exception": false,
     "start_time": "2022-01-06T14:33:16.052620",
     "status": "completed"
    },
    "tags": []
   },
   "outputs": [
    {
     "data": {
      "text/html": [
       "<div>\n",
       "<style scoped>\n",
       "    .dataframe tbody tr th:only-of-type {\n",
       "        vertical-align: middle;\n",
       "    }\n",
       "\n",
       "    .dataframe tbody tr th {\n",
       "        vertical-align: top;\n",
       "    }\n",
       "\n",
       "    .dataframe thead th {\n",
       "        text-align: right;\n",
       "    }\n",
       "</style>\n",
       "<table border=\"1\" class=\"dataframe\">\n",
       "  <thead>\n",
       "    <tr style=\"text-align: right;\">\n",
       "      <th></th>\n",
       "      <th>Close</th>\n",
       "    </tr>\n",
       "    <tr>\n",
       "      <th>date</th>\n",
       "      <th></th>\n",
       "    </tr>\n",
       "  </thead>\n",
       "  <tbody>\n",
       "    <tr>\n",
       "      <th>2021-12-22 19:00:00</th>\n",
       "      <td>48768.659833</td>\n",
       "    </tr>\n",
       "    <tr>\n",
       "      <th>2021-12-22 20:00:00</th>\n",
       "      <td>48962.783500</td>\n",
       "    </tr>\n",
       "    <tr>\n",
       "      <th>2021-12-22 21:00:00</th>\n",
       "      <td>48972.488667</td>\n",
       "    </tr>\n",
       "    <tr>\n",
       "      <th>2021-12-22 22:00:00</th>\n",
       "      <td>48927.945667</td>\n",
       "    </tr>\n",
       "    <tr>\n",
       "      <th>2021-12-22 23:00:00</th>\n",
       "      <td>48751.322045</td>\n",
       "    </tr>\n",
       "  </tbody>\n",
       "</table>\n",
       "</div>"
      ],
      "text/plain": [
       "                            Close\n",
       "date                             \n",
       "2021-12-22 19:00:00  48768.659833\n",
       "2021-12-22 20:00:00  48962.783500\n",
       "2021-12-22 21:00:00  48972.488667\n",
       "2021-12-22 22:00:00  48927.945667\n",
       "2021-12-22 23:00:00  48751.322045"
      ]
     },
     "execution_count": 9,
     "metadata": {},
     "output_type": "execute_result"
    }
   ],
   "source": [
    "prices = sentiment[['Close']]\n",
    "prices.tail()"
   ]
  },
  {
   "cell_type": "markdown",
   "id": "2d3b5892",
   "metadata": {
    "papermill": {
     "duration": 0.030436,
     "end_time": "2022-01-06T14:33:16.163393",
     "exception": false,
     "start_time": "2022-01-06T14:33:16.132957",
     "status": "completed"
    },
    "tags": []
   },
   "source": [
    "## Data Preprocessing"
   ]
  },
  {
   "cell_type": "markdown",
   "id": "c2ffbd33",
   "metadata": {
    "papermill": {
     "duration": 0.030536,
     "end_time": "2022-01-06T14:33:16.224886",
     "exception": false,
     "start_time": "2022-01-06T14:33:16.194350",
     "status": "completed"
    },
    "tags": []
   },
   "source": [
    "### 1. Sentiment Preprocessing"
   ]
  },
  {
   "cell_type": "code",
   "execution_count": 10,
   "id": "a5a258e6",
   "metadata": {
    "execution": {
     "iopub.execute_input": "2022-01-06T14:33:16.290936Z",
     "iopub.status.busy": "2022-01-06T14:33:16.289732Z",
     "iopub.status.idle": "2022-01-06T14:33:22.369985Z",
     "shell.execute_reply": "2022-01-06T14:33:22.370825Z",
     "shell.execute_reply.started": "2022-01-06T14:04:50.495095Z"
    },
    "papermill": {
     "duration": 6.115052,
     "end_time": "2022-01-06T14:33:22.371006",
     "exception": false,
     "start_time": "2022-01-06T14:33:16.255954",
     "status": "completed"
    },
    "tags": []
   },
   "outputs": [],
   "source": [
    "from sklearn.preprocessing import MinMaxScaler\n",
    "from tensorflow.keras.preprocessing.sequence import TimeseriesGenerator\n",
    "\n",
    "X = sentiment.iloc[:, :-1]\n",
    "y = sentiment[['Close']]\n",
    "\n",
    "train_split = 0.9\n",
    "data_len = int(y.shape[0] * train_split)\n",
    "\n",
    "features_scaler = MinMaxScaler(feature_range=(-1, 1))\n",
    "target_scaler = MinMaxScaler()\n",
    "\n",
    "X = features_scaler.fit_transform(X)\n",
    "y = target_scaler.fit_transform(y)\n",
    "\n",
    "X_train = X[:data_len]\n",
    "y_train = y[:data_len]\n",
    "X_test = X[data_len:]\n",
    "y_test = y[data_len:]"
   ]
  },
  {
   "cell_type": "markdown",
   "id": "a812937e",
   "metadata": {
    "papermill": {
     "duration": 0.026573,
     "end_time": "2022-01-06T14:33:22.426352",
     "exception": false,
     "start_time": "2022-01-06T14:33:22.399779",
     "status": "completed"
    },
    "tags": []
   },
   "source": [
    "### Add TimeStamp\n",
    "\n",
    "As we working with multi input model, we can not fit our model with generators, so we have to do it manually."
   ]
  },
  {
   "cell_type": "code",
   "execution_count": 11,
   "id": "862c7cf1",
   "metadata": {
    "execution": {
     "iopub.execute_input": "2022-01-06T14:33:22.488759Z",
     "iopub.status.busy": "2022-01-06T14:33:22.487502Z",
     "iopub.status.idle": "2022-01-06T14:33:22.489762Z",
     "shell.execute_reply": "2022-01-06T14:33:22.490367Z",
     "shell.execute_reply.started": "2022-01-06T14:04:52.368693Z"
    },
    "papermill": {
     "duration": 0.037339,
     "end_time": "2022-01-06T14:33:22.490559",
     "exception": false,
     "start_time": "2022-01-06T14:33:22.453220",
     "status": "completed"
    },
    "tags": []
   },
   "outputs": [],
   "source": [
    "# split a multivariate sequence into samples\n",
    "def Timeseries_sequences(sequences, target, length,):\n",
    "    X, y = list(), list()\n",
    "    for i in range(len(sequences)):\n",
    "        # find the end of this pattern\n",
    "        end_ix = i + length\n",
    "        # check if we are beyond the dataset\n",
    "        if end_ix > len(sequences) - 1: \n",
    "            break\n",
    "        # gather input and output parts of the pattern\n",
    "        seq_x, seq_y = sequences[i:end_ix, :], target[end_ix-1, :] \n",
    "        X.append(seq_x)\n",
    "        y.append(seq_y)\n",
    "    return np.array(X), np.array(y)"
   ]
  },
  {
   "cell_type": "code",
   "execution_count": 12,
   "id": "00828a06",
   "metadata": {
    "execution": {
     "iopub.execute_input": "2022-01-06T14:33:22.563901Z",
     "iopub.status.busy": "2022-01-06T14:33:22.552709Z",
     "iopub.status.idle": "2022-01-06T14:33:22.587045Z",
     "shell.execute_reply": "2022-01-06T14:33:22.586426Z",
     "shell.execute_reply.started": "2022-01-06T14:04:52.377838Z"
    },
    "papermill": {
     "duration": 0.069121,
     "end_time": "2022-01-06T14:33:22.587209",
     "exception": false,
     "start_time": "2022-01-06T14:33:22.518088",
     "status": "completed"
    },
    "tags": []
   },
   "outputs": [],
   "source": [
    "sr = 2\n",
    "lb = 24*sr # hours\n",
    "\n",
    "X_train_sent, y_train_sent = Timeseries_sequences(X_train, y_train, length=lb)\n",
    "X_test_sent, y_test_sent = Timeseries_sequences(X_test, y_test, length=lb)"
   ]
  },
  {
   "cell_type": "code",
   "execution_count": 13,
   "id": "8e8082f0",
   "metadata": {
    "execution": {
     "iopub.execute_input": "2022-01-06T14:33:22.649067Z",
     "iopub.status.busy": "2022-01-06T14:33:22.647957Z",
     "iopub.status.idle": "2022-01-06T14:33:22.652788Z",
     "shell.execute_reply": "2022-01-06T14:33:22.652153Z",
     "shell.execute_reply.started": "2022-01-06T14:04:52.414824Z"
    },
    "papermill": {
     "duration": 0.037545,
     "end_time": "2022-01-06T14:33:22.652959",
     "exception": false,
     "start_time": "2022-01-06T14:33:22.615414",
     "status": "completed"
    },
    "tags": []
   },
   "outputs": [
    {
     "data": {
      "text/plain": [
       "((6876, 48, 6), (6876, 1))"
      ]
     },
     "execution_count": 13,
     "metadata": {},
     "output_type": "execute_result"
    }
   ],
   "source": [
    "X_train_sent.shape, y_train_sent.shape"
   ]
  },
  {
   "cell_type": "markdown",
   "id": "8c53457c",
   "metadata": {
    "papermill": {
     "duration": 0.027024,
     "end_time": "2022-01-06T14:33:22.707535",
     "exception": false,
     "start_time": "2022-01-06T14:33:22.680511",
     "status": "completed"
    },
    "tags": []
   },
   "source": [
    "### 2. Prices Preprocessing"
   ]
  },
  {
   "cell_type": "code",
   "execution_count": 14,
   "id": "4f2a4020",
   "metadata": {
    "execution": {
     "iopub.execute_input": "2022-01-06T14:33:22.767462Z",
     "iopub.status.busy": "2022-01-06T14:33:22.766364Z",
     "iopub.status.idle": "2022-01-06T14:33:22.797160Z",
     "shell.execute_reply": "2022-01-06T14:33:22.796547Z",
     "shell.execute_reply.started": "2022-01-06T14:04:52.423011Z"
    },
    "papermill": {
     "duration": 0.062547,
     "end_time": "2022-01-06T14:33:22.797332",
     "exception": false,
     "start_time": "2022-01-06T14:33:22.734785",
     "status": "completed"
    },
    "tags": []
   },
   "outputs": [],
   "source": [
    "X_train_price, y_train_price = Timeseries_sequences(y_train, y_train, length=lb)\n",
    "X_test_price, y_test_price = Timeseries_sequences(y_test, y_test, length=lb)"
   ]
  },
  {
   "cell_type": "markdown",
   "id": "91b855e4",
   "metadata": {
    "papermill": {
     "duration": 0.027339,
     "end_time": "2022-01-06T14:33:22.853417",
     "exception": false,
     "start_time": "2022-01-06T14:33:22.826078",
     "status": "completed"
    },
    "tags": []
   },
   "source": [
    "## Model"
   ]
  },
  {
   "cell_type": "code",
   "execution_count": 15,
   "id": "8ad2e283",
   "metadata": {
    "execution": {
     "iopub.execute_input": "2022-01-06T14:33:22.917081Z",
     "iopub.status.busy": "2022-01-06T14:33:22.915634Z",
     "iopub.status.idle": "2022-01-06T14:33:22.923221Z",
     "shell.execute_reply": "2022-01-06T14:33:22.922536Z",
     "shell.execute_reply.started": "2022-01-06T14:04:52.454788Z"
    },
    "papermill": {
     "duration": 0.041773,
     "end_time": "2022-01-06T14:33:22.923377",
     "exception": false,
     "start_time": "2022-01-06T14:33:22.881604",
     "status": "completed"
    },
    "tags": []
   },
   "outputs": [],
   "source": [
    "import tensorflow as tf\n",
    "\n",
    "from tensorflow.keras.models import Model\n",
    "#from keras.layers.merge import concatenate\n",
    "from tensorflow.keras.layers import LSTM, Dense, Dropout, Input, Concatenate\n",
    "from tensorflow.keras.callbacks import EarlyStopping, LearningRateScheduler\n",
    "\n",
    "from tensorflow.keras.optimizers import SGD, Adam"
   ]
  },
  {
   "cell_type": "code",
   "execution_count": 16,
   "id": "ba648a8c",
   "metadata": {
    "execution": {
     "iopub.execute_input": "2022-01-06T14:33:22.986037Z",
     "iopub.status.busy": "2022-01-06T14:33:22.984018Z",
     "iopub.status.idle": "2022-01-06T14:33:22.993512Z",
     "shell.execute_reply": "2022-01-06T14:33:22.994105Z",
     "shell.execute_reply.started": "2022-01-06T14:04:52.464203Z"
    },
    "papermill": {
     "duration": 0.041953,
     "end_time": "2022-01-06T14:33:22.994292",
     "exception": false,
     "start_time": "2022-01-06T14:33:22.952339",
     "status": "completed"
    },
    "tags": []
   },
   "outputs": [
    {
     "data": {
      "text/plain": [
       "((48, 6), (48, 1))"
      ]
     },
     "execution_count": 16,
     "metadata": {},
     "output_type": "execute_result"
    }
   ],
   "source": [
    "sent_shape = X_train_sent.shape[1:]\n",
    "price_shape = X_train_price.shape[1:]\n",
    "\n",
    "sent_shape, price_shape"
   ]
  },
  {
   "cell_type": "code",
   "execution_count": 17,
   "id": "68f50e08",
   "metadata": {
    "execution": {
     "iopub.execute_input": "2022-01-06T14:33:23.060489Z",
     "iopub.status.busy": "2022-01-06T14:33:23.059755Z",
     "iopub.status.idle": "2022-01-06T14:33:26.831427Z",
     "shell.execute_reply": "2022-01-06T14:33:26.831991Z",
     "shell.execute_reply.started": "2022-01-06T14:04:52.474991Z"
    },
    "papermill": {
     "duration": 3.809263,
     "end_time": "2022-01-06T14:33:26.832211",
     "exception": false,
     "start_time": "2022-01-06T14:33:23.022948",
     "status": "completed"
    },
    "tags": []
   },
   "outputs": [
    {
     "name": "stdout",
     "output_type": "stream",
     "text": [
      "Model: \"model\"\n",
      "__________________________________________________________________________________________________\n",
      "Layer (type)                    Output Shape         Param #     Connected to                     \n",
      "==================================================================================================\n",
      "sentiment_input (InputLayer)    [(None, 48, 6)]      0                                            \n",
      "__________________________________________________________________________________________________\n",
      "sentiment_LSTM_sequences (LSTM) (None, 48, 32)       4992        sentiment_input[0][0]            \n",
      "__________________________________________________________________________________________________\n",
      "prices_input (InputLayer)       [(None, 48, 1)]      0                                            \n",
      "__________________________________________________________________________________________________\n",
      "sentiment_LSTM (LSTM)           (None, 4)            592         sentiment_LSTM_sequences[0][0]   \n",
      "__________________________________________________________________________________________________\n",
      "prices_LSTM (LSTM)              (None, 10)           480         prices_input[0][0]               \n",
      "__________________________________________________________________________________________________\n",
      "sentiment_vector_representation (None, 4)            20          sentiment_LSTM[0][0]             \n",
      "__________________________________________________________________________________________________\n",
      "prices_vector_representation (D (None, 4)            44          prices_LSTM[0][0]                \n",
      "__________________________________________________________________________________________________\n",
      "merge (Concatenate)             (None, 8)            0           sentiment_vector_representation[0\n",
      "                                                                 prices_vector_representation[0][0\n",
      "__________________________________________________________________________________________________\n",
      "output (Dense)                  (None, 1)            9           merge[0][0]                      \n",
      "==================================================================================================\n",
      "Total params: 6,137\n",
      "Trainable params: 6,137\n",
      "Non-trainable params: 0\n",
      "__________________________________________________________________________________________________\n"
     ]
    }
   ],
   "source": [
    "# design a parallel model\n",
    "\n",
    "sent_input = Input(shape=sent_shape, name='sentiment_input') # x1\n",
    "price_input = Input(shape=price_shape, name='prices_input') # x2\n",
    "\n",
    "# sentiment Network\n",
    "x1 = LSTM(32, return_sequences=True, name='sentiment_LSTM_sequences')(sent_input)\n",
    "x1 = LSTM(4, name='sentiment_LSTM')(x1)\n",
    "x1 = Dense(4, name='sentiment_vector_representation')(x1)\n",
    "\n",
    "# prices Network\n",
    "x2 = LSTM(10, name='prices_LSTM')(price_input)\n",
    "x2 = Dense(4, name='prices_vector_representation')(x2)\n",
    "\n",
    "# concatenate both\n",
    "out = Concatenate(axis=-1, name='merge')([x1, x2])\n",
    "\n",
    "# fully-connected\n",
    "out = Dense(1, name='output')(out)\n",
    "\n",
    "model = Model(inputs=[sent_input, price_input], outputs=out)\n",
    "\n",
    "# show model summary\n",
    "model.summary()"
   ]
  },
  {
   "cell_type": "code",
   "execution_count": 18,
   "id": "3ba74fb2",
   "metadata": {
    "execution": {
     "iopub.execute_input": "2022-01-06T14:33:26.899255Z",
     "iopub.status.busy": "2022-01-06T14:33:26.898113Z",
     "iopub.status.idle": "2022-01-06T14:33:27.720970Z",
     "shell.execute_reply": "2022-01-06T14:33:27.721542Z",
     "shell.execute_reply.started": "2022-01-06T14:04:54.062046Z"
    },
    "papermill": {
     "duration": 0.859758,
     "end_time": "2022-01-06T14:33:27.721723",
     "exception": false,
     "start_time": "2022-01-06T14:33:26.861965",
     "status": "completed"
    },
    "tags": []
   },
   "outputs": [
    {
     "data": {
      "image/png": "[encoded data removed]",
      "text/plain": [
       "<IPython.core.display.Image object>"
      ]
     },
     "execution_count": 18,
     "metadata": {},
     "output_type": "execute_result"
    }
   ],
   "source": [
    "tf.keras.utils.plot_model(\n",
    "    model,\n",
    "    to_file=\"model.png\",\n",
    "    show_shapes=False,\n",
    "    show_dtype=False,\n",
    "    show_layer_names=True,\n",
    "    rankdir=\"TB\",\n",
    "    expand_nested=False,\n",
    "    dpi=96,\n",
    "    layer_range=None,\n",
    "    #show_layer_activations=False,\n",
    ")"
   ]
  },
  {
   "cell_type": "code",
   "execution_count": 19,
   "id": "8cca6103",
   "metadata": {
    "execution": {
     "iopub.execute_input": "2022-01-06T14:33:27.797983Z",
     "iopub.status.busy": "2022-01-06T14:33:27.794902Z",
     "iopub.status.idle": "2022-01-06T14:34:56.846981Z",
     "shell.execute_reply": "2022-01-06T14:34:56.847913Z",
     "shell.execute_reply.started": "2022-01-06T14:04:54.210587Z"
    },
    "papermill": {
     "duration": 89.097259,
     "end_time": "2022-01-06T14:34:56.848144",
     "exception": false,
     "start_time": "2022-01-06T14:33:27.750885",
     "status": "completed"
    },
    "tags": []
   },
   "outputs": [
    {
     "name": "stdout",
     "output_type": "stream",
     "text": [
      "Epoch 1/1000\n",
      "27/27 [==============================] - 9s 68ms/step - loss: 0.0737 - val_loss: 0.0331\n",
      "Epoch 2/1000\n",
      "27/27 [==============================] - 0s 17ms/step - loss: 0.0190 - val_loss: 0.0079\n",
      "Epoch 3/1000\n",
      "27/27 [==============================] - 0s 15ms/step - loss: 0.0099 - val_loss: 0.0040\n",
      "Epoch 4/1000\n",
      "27/27 [==============================] - 0s 15ms/step - loss: 0.0049 - val_loss: 0.0014\n",
      "Epoch 5/1000\n",
      "27/27 [==============================] - 0s 15ms/step - loss: 0.0022 - val_loss: 6.8085e-04\n",
      "Epoch 6/1000\n",
      "27/27 [==============================] - 0s 16ms/step - loss: 0.0012 - val_loss: 6.4114e-04\n",
      "Epoch 7/1000\n",
      "27/27 [==============================] - 0s 15ms/step - loss: 9.6132e-04 - val_loss: 6.9511e-04\n",
      "Epoch 8/1000\n",
      "27/27 [==============================] - 0s 15ms/step - loss: 8.6224e-04 - val_loss: 6.9382e-04\n",
      "Epoch 9/1000\n",
      "27/27 [==============================] - 0s 15ms/step - loss: 8.0856e-04 - val_loss: 6.6452e-04\n",
      "Epoch 10/1000\n",
      "27/27 [==============================] - 1s 20ms/step - loss: 7.6954e-04 - val_loss: 6.3907e-04\n",
      "Epoch 11/1000\n",
      "27/27 [==============================] - 1s 24ms/step - loss: 7.3720e-04 - val_loss: 6.2036e-04\n",
      "Epoch 12/1000\n",
      "27/27 [==============================] - 0s 18ms/step - loss: 7.0964e-04 - val_loss: 6.0549e-04\n",
      "Epoch 13/1000\n",
      "27/27 [==============================] - 0s 16ms/step - loss: 6.8586e-04 - val_loss: 5.9326e-04\n",
      "Epoch 14/1000\n",
      "27/27 [==============================] - 0s 16ms/step - loss: 6.6519e-04 - val_loss: 5.8297e-04\n",
      "Epoch 15/1000\n",
      "27/27 [==============================] - 0s 15ms/step - loss: 6.4716e-04 - val_loss: 5.7413e-04\n",
      "Epoch 16/1000\n",
      "27/27 [==============================] - 0s 15ms/step - loss: 6.3135e-04 - val_loss: 5.6645e-04\n",
      "Epoch 17/1000\n",
      "27/27 [==============================] - 0s 15ms/step - loss: 6.1746e-04 - val_loss: 5.5972e-04\n",
      "Epoch 18/1000\n",
      "27/27 [==============================] - 0s 15ms/step - loss: 6.0521e-04 - val_loss: 5.5379e-04\n",
      "Epoch 19/1000\n",
      "27/27 [==============================] - 0s 15ms/step - loss: 5.9439e-04 - val_loss: 5.4854e-04\n",
      "Epoch 20/1000\n",
      "27/27 [==============================] - 0s 15ms/step - loss: 5.8479e-04 - val_loss: 5.4386e-04\n",
      "Epoch 21/1000\n",
      "27/27 [==============================] - 0s 16ms/step - loss: 5.7626e-04 - val_loss: 5.3970e-04\n",
      "Epoch 22/1000\n",
      "27/27 [==============================] - 0s 15ms/step - loss: 5.6866e-04 - val_loss: 5.3597e-04\n",
      "Epoch 23/1000\n",
      "27/27 [==============================] - 0s 16ms/step - loss: 5.6188e-04 - val_loss: 5.3263e-04\n",
      "Epoch 24/1000\n",
      "27/27 [==============================] - 0s 15ms/step - loss: 5.5582e-04 - val_loss: 5.2964e-04\n",
      "Epoch 25/1000\n",
      "27/27 [==============================] - 1s 22ms/step - loss: 5.5039e-04 - val_loss: 5.2694e-04\n",
      "Epoch 26/1000\n",
      "27/27 [==============================] - 1s 19ms/step - loss: 5.4551e-04 - val_loss: 5.2452e-04\n",
      "Epoch 27/1000\n",
      "27/27 [==============================] - 0s 15ms/step - loss: 5.4113e-04 - val_loss: 5.2233e-04\n",
      "Epoch 28/1000\n",
      "27/27 [==============================] - 0s 15ms/step - loss: 5.3719e-04 - val_loss: 5.2036e-04\n",
      "Epoch 29/1000\n",
      "27/27 [==============================] - 0s 15ms/step - loss: 5.3364e-04 - val_loss: 5.1857e-04\n",
      "Epoch 30/1000\n",
      "27/27 [==============================] - 0s 15ms/step - loss: 5.3043e-04 - val_loss: 5.1696e-04\n",
      "Epoch 31/1000\n",
      "27/27 [==============================] - 0s 15ms/step - loss: 5.2753e-04 - val_loss: 5.1550e-04\n",
      "Epoch 32/1000\n",
      "27/27 [==============================] - 0s 15ms/step - loss: 5.2491e-04 - val_loss: 5.1418e-04\n",
      "Epoch 33/1000\n",
      "27/27 [==============================] - 0s 16ms/step - loss: 5.2254e-04 - val_loss: 5.1298e-04\n",
      "Epoch 34/1000\n",
      "27/27 [==============================] - 0s 15ms/step - loss: 5.2040e-04 - val_loss: 5.1190e-04\n",
      "Epoch 35/1000\n",
      "27/27 [==============================] - 0s 16ms/step - loss: 5.1845e-04 - val_loss: 5.1091e-04\n",
      "Epoch 36/1000\n",
      "27/27 [==============================] - 0s 16ms/step - loss: 5.1669e-04 - val_loss: 5.1002e-04\n",
      "Epoch 37/1000\n",
      "27/27 [==============================] - 0s 16ms/step - loss: 5.1509e-04 - val_loss: 5.0921e-04\n",
      "Epoch 38/1000\n",
      "27/27 [==============================] - 0s 17ms/step - loss: 5.1364e-04 - val_loss: 5.0847e-04\n",
      "Epoch 39/1000\n",
      "27/27 [==============================] - 0s 15ms/step - loss: 5.1232e-04 - val_loss: 5.0780e-04\n",
      "Epoch 40/1000\n",
      "27/27 [==============================] - 0s 15ms/step - loss: 5.1112e-04 - val_loss: 5.0719e-04\n",
      "Epoch 41/1000\n",
      "27/27 [==============================] - 0s 15ms/step - loss: 5.1003e-04 - val_loss: 5.0664e-04\n",
      "Epoch 42/1000\n",
      "27/27 [==============================] - 0s 16ms/step - loss: 5.0904e-04 - val_loss: 5.0614e-04\n",
      "Epoch 43/1000\n",
      "27/27 [==============================] - 0s 15ms/step - loss: 5.0814e-04 - val_loss: 5.0568e-04\n",
      "Epoch 44/1000\n",
      "27/27 [==============================] - 0s 15ms/step - loss: 5.0732e-04 - val_loss: 5.0527e-04\n",
      "Epoch 45/1000\n",
      "27/27 [==============================] - 0s 16ms/step - loss: 5.0657e-04 - val_loss: 5.0489e-04\n",
      "Epoch 46/1000\n",
      "27/27 [==============================] - 0s 15ms/step - loss: 5.0589e-04 - val_loss: 5.0454e-04\n",
      "Epoch 47/1000\n",
      "27/27 [==============================] - 0s 15ms/step - loss: 5.0527e-04 - val_loss: 5.0423e-04\n",
      "Epoch 48/1000\n",
      "27/27 [==============================] - 0s 16ms/step - loss: 5.0471e-04 - val_loss: 5.0395e-04\n",
      "Epoch 49/1000\n",
      "27/27 [==============================] - 0s 15ms/step - loss: 5.0420e-04 - val_loss: 5.0369e-04\n",
      "Epoch 50/1000\n",
      "27/27 [==============================] - 1s 27ms/step - loss: 5.0373e-04 - val_loss: 5.0345e-04\n",
      "Epoch 51/1000\n",
      "27/27 [==============================] - 1s 19ms/step - loss: 5.0331e-04 - val_loss: 5.0324e-04\n",
      "Epoch 52/1000\n",
      "27/27 [==============================] - 0s 15ms/step - loss: 5.0292e-04 - val_loss: 5.0305e-04\n",
      "Epoch 53/1000\n",
      "27/27 [==============================] - 0s 15ms/step - loss: 5.0257e-04 - val_loss: 5.0287e-04\n",
      "Epoch 54/1000\n",
      "27/27 [==============================] - 0s 15ms/step - loss: 5.0225e-04 - val_loss: 5.0271e-04\n",
      "Epoch 55/1000\n",
      "27/27 [==============================] - 0s 15ms/step - loss: 5.0196e-04 - val_loss: 5.0256e-04\n",
      "Epoch 56/1000\n",
      "27/27 [==============================] - 0s 15ms/step - loss: 5.0169e-04 - val_loss: 5.0243e-04\n",
      "Epoch 57/1000\n",
      "27/27 [==============================] - 0s 15ms/step - loss: 5.0145e-04 - val_loss: 5.0231e-04\n",
      "Epoch 58/1000\n",
      "27/27 [==============================] - 0s 15ms/step - loss: 5.0123e-04 - val_loss: 5.0220e-04\n",
      "Epoch 59/1000\n",
      "27/27 [==============================] - 0s 18ms/step - loss: 5.0103e-04 - val_loss: 5.0211e-04\n",
      "Epoch 60/1000\n",
      "27/27 [==============================] - 0s 15ms/step - loss: 5.0085e-04 - val_loss: 5.0202e-04\n",
      "Epoch 61/1000\n",
      "27/27 [==============================] - 0s 16ms/step - loss: 5.0068e-04 - val_loss: 5.0194e-04\n",
      "Epoch 62/1000\n",
      "27/27 [==============================] - 0s 15ms/step - loss: 5.0053e-04 - val_loss: 5.0187e-04\n",
      "Epoch 63/1000\n",
      "27/27 [==============================] - 0s 15ms/step - loss: 5.0039e-04 - val_loss: 5.0181e-04\n",
      "Epoch 64/1000\n",
      "27/27 [==============================] - 0s 16ms/step - loss: 5.0026e-04 - val_loss: 5.0175e-04\n",
      "Epoch 65/1000\n",
      "27/27 [==============================] - 0s 15ms/step - loss: 5.0015e-04 - val_loss: 5.0169e-04\n",
      "Epoch 66/1000\n",
      "27/27 [==============================] - 0s 16ms/step - loss: 5.0005e-04 - val_loss: 5.0164e-04\n",
      "Epoch 67/1000\n",
      "27/27 [==============================] - 0s 15ms/step - loss: 4.9996e-04 - val_loss: 5.0159e-04\n",
      "Epoch 68/1000\n",
      "27/27 [==============================] - 0s 15ms/step - loss: 4.9987e-04 - val_loss: 5.0155e-04\n",
      "Epoch 69/1000\n",
      "27/27 [==============================] - 0s 15ms/step - loss: 4.9979e-04 - val_loss: 5.0151e-04\n",
      "Epoch 70/1000\n",
      "27/27 [==============================] - 0s 15ms/step - loss: 4.9972e-04 - val_loss: 5.0147e-04\n",
      "Epoch 71/1000\n",
      "27/27 [==============================] - 0s 16ms/step - loss: 4.9966e-04 - val_loss: 5.0144e-04\n",
      "Epoch 72/1000\n",
      "27/27 [==============================] - 0s 15ms/step - loss: 4.9960e-04 - val_loss: 5.0141e-04\n",
      "Epoch 73/1000\n",
      "27/27 [==============================] - 0s 16ms/step - loss: 4.9954e-04 - val_loss: 5.0139e-04\n",
      "Epoch 74/1000\n",
      "27/27 [==============================] - 0s 15ms/step - loss: 4.9950e-04 - val_loss: 5.0136e-04\n",
      "Epoch 75/1000\n",
      "27/27 [==============================] - 1s 22ms/step - loss: 4.9945e-04 - val_loss: 5.0134e-04\n",
      "Epoch 76/1000\n",
      "27/27 [==============================] - 1s 19ms/step - loss: 4.9941e-04 - val_loss: 5.0133e-04\n",
      "Epoch 77/1000\n",
      "27/27 [==============================] - 0s 15ms/step - loss: 4.9938e-04 - val_loss: 5.0131e-04\n",
      "Epoch 78/1000\n",
      "27/27 [==============================] - 0s 16ms/step - loss: 4.9934e-04 - val_loss: 5.0129e-04\n",
      "Epoch 79/1000\n",
      "27/27 [==============================] - 0s 15ms/step - loss: 4.9931e-04 - val_loss: 5.0127e-04\n",
      "Epoch 80/1000\n",
      "27/27 [==============================] - 0s 16ms/step - loss: 4.9929e-04 - val_loss: 5.0125e-04\n",
      "Epoch 81/1000\n",
      "27/27 [==============================] - 0s 16ms/step - loss: 4.9926e-04 - val_loss: 5.0123e-04\n",
      "Epoch 82/1000\n",
      "27/27 [==============================] - 0s 15ms/step - loss: 4.9924e-04 - val_loss: 5.0122e-04\n",
      "Epoch 83/1000\n",
      "27/27 [==============================] - 1s 19ms/step - loss: 4.9922e-04 - val_loss: 5.0121e-04\n",
      "Epoch 84/1000\n",
      "27/27 [==============================] - 1s 21ms/step - loss: 4.9920e-04 - val_loss: 5.0120e-04\n",
      "Epoch 85/1000\n",
      "27/27 [==============================] - 1s 20ms/step - loss: 4.9919e-04 - val_loss: 5.0119e-04\n",
      "Epoch 86/1000\n",
      "27/27 [==============================] - 0s 15ms/step - loss: 4.9917e-04 - val_loss: 5.0118e-04\n",
      "Epoch 87/1000\n",
      "27/27 [==============================] - 0s 16ms/step - loss: 4.9916e-04 - val_loss: 5.0118e-04\n",
      "Epoch 88/1000\n",
      "27/27 [==============================] - 0s 15ms/step - loss: 4.9914e-04 - val_loss: 5.0117e-04\n",
      "Epoch 89/1000\n",
      "27/27 [==============================] - 0s 15ms/step - loss: 4.9913e-04 - val_loss: 5.0116e-04\n",
      "Epoch 90/1000\n",
      "27/27 [==============================] - 0s 16ms/step - loss: 4.9912e-04 - val_loss: 5.0116e-04\n",
      "Epoch 91/1000\n",
      "27/27 [==============================] - 0s 15ms/step - loss: 4.9912e-04 - val_loss: 5.0115e-04\n",
      "Epoch 92/1000\n",
      "27/27 [==============================] - 0s 17ms/step - loss: 4.9911e-04 - val_loss: 5.0114e-04\n",
      "Epoch 93/1000\n",
      "27/27 [==============================] - 0s 18ms/step - loss: 4.9910e-04 - val_loss: 5.0114e-04\n",
      "Epoch 94/1000\n",
      "27/27 [==============================] - 0s 17ms/step - loss: 4.9909e-04 - val_loss: 5.0113e-04\n",
      "Epoch 95/1000\n",
      "27/27 [==============================] - 0s 17ms/step - loss: 4.9909e-04 - val_loss: 5.0112e-04\n",
      "Epoch 96/1000\n",
      "27/27 [==============================] - 0s 17ms/step - loss: 4.9908e-04 - val_loss: 5.0112e-04\n",
      "Epoch 97/1000\n",
      "27/27 [==============================] - 0s 17ms/step - loss: 4.9908e-04 - val_loss: 5.0111e-04\n",
      "Epoch 98/1000\n",
      "27/27 [==============================] - 1s 21ms/step - loss: 4.9908e-04 - val_loss: 5.0111e-04\n",
      "Epoch 99/1000\n",
      "27/27 [==============================] - 1s 23ms/step - loss: 4.9907e-04 - val_loss: 5.0111e-04\n",
      "Epoch 100/1000\n",
      "27/27 [==============================] - 0s 15ms/step - loss: 4.9907e-04 - val_loss: 5.0111e-04\n",
      "Epoch 101/1000\n",
      "27/27 [==============================] - 0s 15ms/step - loss: 4.9907e-04 - val_loss: 5.0110e-04\n",
      "Epoch 102/1000\n",
      "27/27 [==============================] - 0s 16ms/step - loss: 4.9906e-04 - val_loss: 5.0110e-04\n",
      "Epoch 103/1000\n",
      "27/27 [==============================] - 0s 15ms/step - loss: 4.9906e-04 - val_loss: 5.0110e-04\n",
      "Epoch 104/1000\n",
      "27/27 [==============================] - 0s 16ms/step - loss: 4.9906e-04 - val_loss: 5.0110e-04\n",
      "Epoch 105/1000\n",
      "27/27 [==============================] - 0s 15ms/step - loss: 4.9906e-04 - val_loss: 5.0109e-04\n",
      "Epoch 106/1000\n",
      "27/27 [==============================] - 0s 15ms/step - loss: 4.9906e-04 - val_loss: 5.0109e-04\n",
      "Epoch 107/1000\n",
      "27/27 [==============================] - 0s 15ms/step - loss: 4.9906e-04 - val_loss: 5.0109e-04\n",
      "Epoch 108/1000\n",
      "27/27 [==============================] - 0s 15ms/step - loss: 4.9906e-04 - val_loss: 5.0109e-04\n",
      "Epoch 109/1000\n",
      "27/27 [==============================] - 0s 15ms/step - loss: 4.9905e-04 - val_loss: 5.0108e-04\n",
      "Epoch 110/1000\n",
      "27/27 [==============================] - 0s 15ms/step - loss: 4.9905e-04 - val_loss: 5.0108e-04\n",
      "Epoch 111/1000\n",
      "27/27 [==============================] - 0s 15ms/step - loss: 4.9905e-04 - val_loss: 5.0108e-04\n",
      "Epoch 112/1000\n",
      "27/27 [==============================] - 0s 15ms/step - loss: 4.9905e-04 - val_loss: 5.0108e-04\n",
      "Epoch 113/1000\n",
      "27/27 [==============================] - 0s 15ms/step - loss: 4.9905e-04 - val_loss: 5.0108e-04\n",
      "Epoch 114/1000\n",
      "27/27 [==============================] - 0s 15ms/step - loss: 4.9905e-04 - val_loss: 5.0108e-04\n",
      "Epoch 115/1000\n",
      "27/27 [==============================] - 0s 15ms/step - loss: 4.9905e-04 - val_loss: 5.0108e-04\n",
      "Epoch 116/1000\n",
      "27/27 [==============================] - 0s 15ms/step - loss: 4.9905e-04 - val_loss: 5.0108e-04\n",
      "Epoch 117/1000\n",
      "27/27 [==============================] - 0s 15ms/step - loss: 4.9905e-04 - val_loss: 5.0108e-04\n",
      "Epoch 118/1000\n",
      "27/27 [==============================] - 1s 19ms/step - loss: 4.9905e-04 - val_loss: 5.0108e-04\n",
      "Epoch 119/1000\n",
      "27/27 [==============================] - 1s 20ms/step - loss: 4.9905e-04 - val_loss: 5.0108e-04\n",
      "Epoch 120/1000\n",
      "27/27 [==============================] - 0s 15ms/step - loss: 4.9905e-04 - val_loss: 5.0108e-04\n",
      "Epoch 121/1000\n",
      "27/27 [==============================] - 0s 15ms/step - loss: 4.9905e-04 - val_loss: 5.0108e-04\n",
      "Epoch 122/1000\n",
      "27/27 [==============================] - 0s 15ms/step - loss: 4.9905e-04 - val_loss: 5.0108e-04\n",
      "Epoch 123/1000\n",
      "27/27 [==============================] - 1s 20ms/step - loss: 4.9905e-04 - val_loss: 5.0108e-04\n",
      "Epoch 124/1000\n",
      "27/27 [==============================] - 1s 20ms/step - loss: 4.9905e-04 - val_loss: 5.0108e-04\n",
      "Epoch 125/1000\n",
      "27/27 [==============================] - 0s 17ms/step - loss: 4.9905e-04 - val_loss: 5.0108e-04\n",
      "Epoch 126/1000\n",
      "27/27 [==============================] - 0s 15ms/step - loss: 4.9905e-04 - val_loss: 5.0108e-04\n",
      "Epoch 127/1000\n",
      "27/27 [==============================] - 0s 16ms/step - loss: 4.9905e-04 - val_loss: 5.0108e-04\n",
      "Epoch 128/1000\n",
      "27/27 [==============================] - 0s 16ms/step - loss: 4.9905e-04 - val_loss: 5.0108e-04\n",
      "Epoch 129/1000\n",
      "27/27 [==============================] - 0s 15ms/step - loss: 4.9905e-04 - val_loss: 5.0108e-04\n",
      "Epoch 130/1000\n",
      "27/27 [==============================] - 0s 16ms/step - loss: 4.9905e-04 - val_loss: 5.0108e-04\n",
      "Epoch 131/1000\n",
      "27/27 [==============================] - 0s 15ms/step - loss: 4.9905e-04 - val_loss: 5.0108e-04\n",
      "Epoch 132/1000\n",
      "27/27 [==============================] - 0s 15ms/step - loss: 4.9905e-04 - val_loss: 5.0108e-04\n",
      "Epoch 133/1000\n",
      "27/27 [==============================] - 0s 16ms/step - loss: 4.9905e-04 - val_loss: 5.0108e-04\n",
      "Epoch 134/1000\n",
      "27/27 [==============================] - 0s 16ms/step - loss: 4.9905e-04 - val_loss: 5.0108e-04\n",
      "Epoch 135/1000\n",
      "27/27 [==============================] - 0s 16ms/step - loss: 4.9905e-04 - val_loss: 5.0108e-04\n",
      "Epoch 136/1000\n",
      "27/27 [==============================] - 0s 15ms/step - loss: 4.9905e-04 - val_loss: 5.0108e-04\n",
      "Epoch 137/1000\n",
      "27/27 [==============================] - 0s 15ms/step - loss: 4.9905e-04 - val_loss: 5.0108e-04\n",
      "Epoch 138/1000\n",
      "27/27 [==============================] - 0s 15ms/step - loss: 4.9905e-04 - val_loss: 5.0108e-04\n",
      "Epoch 139/1000\n",
      "27/27 [==============================] - 0s 15ms/step - loss: 4.9905e-04 - val_loss: 5.0108e-04\n",
      "Epoch 140/1000\n",
      "27/27 [==============================] - 0s 15ms/step - loss: 4.9905e-04 - val_loss: 5.0108e-04\n",
      "Epoch 141/1000\n",
      "27/27 [==============================] - 0s 15ms/step - loss: 4.9905e-04 - val_loss: 5.0108e-04\n",
      "Epoch 142/1000\n",
      "27/27 [==============================] - 0s 15ms/step - loss: 4.9905e-04 - val_loss: 5.0108e-04\n",
      "Epoch 143/1000\n",
      "27/27 [==============================] - 0s 16ms/step - loss: 4.9905e-04 - val_loss: 5.0108e-04\n",
      "Epoch 144/1000\n",
      "27/27 [==============================] - 0s 15ms/step - loss: 4.9905e-04 - val_loss: 5.0108e-04\n",
      "Epoch 145/1000\n",
      "27/27 [==============================] - 0s 15ms/step - loss: 4.9905e-04 - val_loss: 5.0108e-04\n",
      "Epoch 146/1000\n",
      "27/27 [==============================] - 0s 15ms/step - loss: 4.9905e-04 - val_loss: 5.0108e-04\n",
      "Epoch 147/1000\n",
      "27/27 [==============================] - 0s 15ms/step - loss: 4.9905e-04 - val_loss: 5.0108e-04\n",
      "Epoch 148/1000\n",
      "27/27 [==============================] - 0s 16ms/step - loss: 4.9905e-04 - val_loss: 5.0108e-04\n",
      "Epoch 149/1000\n",
      "27/27 [==============================] - 1s 23ms/step - loss: 4.9905e-04 - val_loss: 5.0108e-04\n",
      "Epoch 150/1000\n",
      "27/27 [==============================] - 0s 18ms/step - loss: 4.9905e-04 - val_loss: 5.0108e-04\n",
      "Epoch 151/1000\n",
      "27/27 [==============================] - 0s 15ms/step - loss: 4.9905e-04 - val_loss: 5.0108e-04\n",
      "Epoch 152/1000\n",
      "27/27 [==============================] - 0s 16ms/step - loss: 4.9905e-04 - val_loss: 5.0108e-04\n",
      "Epoch 153/1000\n",
      "27/27 [==============================] - 0s 15ms/step - loss: 4.9905e-04 - val_loss: 5.0108e-04\n",
      "Epoch 154/1000\n",
      "27/27 [==============================] - 0s 16ms/step - loss: 4.9905e-04 - val_loss: 5.0108e-04\n",
      "Epoch 155/1000\n",
      "27/27 [==============================] - 0s 16ms/step - loss: 4.9905e-04 - val_loss: 5.0108e-04\n",
      "Epoch 156/1000\n",
      "27/27 [==============================] - 1s 19ms/step - loss: 4.9905e-04 - val_loss: 5.0108e-04\n",
      "Epoch 157/1000\n",
      "27/27 [==============================] - 1s 22ms/step - loss: 4.9905e-04 - val_loss: 5.0108e-04\n",
      "Epoch 158/1000\n",
      "27/27 [==============================] - 1s 20ms/step - loss: 4.9905e-04 - val_loss: 5.0108e-04\n",
      "Epoch 159/1000\n",
      "27/27 [==============================] - 0s 16ms/step - loss: 4.9905e-04 - val_loss: 5.0108e-04\n",
      "Epoch 160/1000\n",
      "27/27 [==============================] - 0s 16ms/step - loss: 4.9905e-04 - val_loss: 5.0108e-04\n",
      "Epoch 161/1000\n",
      "27/27 [==============================] - 0s 16ms/step - loss: 4.9905e-04 - val_loss: 5.0108e-04\n",
      "Epoch 162/1000\n",
      "27/27 [==============================] - 0s 15ms/step - loss: 4.9905e-04 - val_loss: 5.0108e-04\n",
      "Epoch 163/1000\n",
      "27/27 [==============================] - 0s 16ms/step - loss: 4.9905e-04 - val_loss: 5.0108e-04\n",
      "Epoch 164/1000\n",
      "27/27 [==============================] - 0s 15ms/step - loss: 4.9905e-04 - val_loss: 5.0108e-04\n",
      "Epoch 165/1000\n",
      "27/27 [==============================] - 0s 15ms/step - loss: 4.9905e-04 - val_loss: 5.0108e-04\n",
      "Epoch 166/1000\n",
      "27/27 [==============================] - 0s 16ms/step - loss: 4.9905e-04 - val_loss: 5.0108e-04\n",
      "Epoch 167/1000\n",
      "27/27 [==============================] - 0s 15ms/step - loss: 4.9905e-04 - val_loss: 5.0108e-04\n",
      "Epoch 168/1000\n",
      "27/27 [==============================] - 0s 15ms/step - loss: 4.9905e-04 - val_loss: 5.0108e-04\n",
      "Epoch 169/1000\n",
      "27/27 [==============================] - 0s 15ms/step - loss: 4.9905e-04 - val_loss: 5.0108e-04\n",
      "Epoch 170/1000\n",
      "27/27 [==============================] - 0s 15ms/step - loss: 4.9905e-04 - val_loss: 5.0108e-04\n",
      "Epoch 171/1000\n",
      "27/27 [==============================] - 0s 16ms/step - loss: 4.9905e-04 - val_loss: 5.0108e-04\n",
      "Epoch 172/1000\n",
      "27/27 [==============================] - 0s 15ms/step - loss: 4.9905e-04 - val_loss: 5.0108e-04\n",
      "Epoch 173/1000\n",
      "27/27 [==============================] - 1s 21ms/step - loss: 4.9905e-04 - val_loss: 5.0108e-04\n",
      "Epoch 174/1000\n",
      "27/27 [==============================] - 1s 19ms/step - loss: 4.9905e-04 - val_loss: 5.0108e-04\n",
      "Epoch 175/1000\n",
      "27/27 [==============================] - 0s 16ms/step - loss: 4.9905e-04 - val_loss: 5.0108e-04\n",
      "Epoch 176/1000\n",
      "27/27 [==============================] - 0s 16ms/step - loss: 4.9905e-04 - val_loss: 5.0108e-04\n",
      "Epoch 177/1000\n",
      "27/27 [==============================] - 0s 16ms/step - loss: 4.9905e-04 - val_loss: 5.0108e-04\n",
      "Epoch 178/1000\n",
      "27/27 [==============================] - 0s 16ms/step - loss: 4.9905e-04 - val_loss: 5.0108e-04\n",
      "Epoch 179/1000\n",
      "27/27 [==============================] - 0s 16ms/step - loss: 4.9905e-04 - val_loss: 5.0108e-04\n",
      "Epoch 180/1000\n",
      "27/27 [==============================] - 0s 16ms/step - loss: 4.9905e-04 - val_loss: 5.0108e-04\n",
      "Epoch 181/1000\n",
      "27/27 [==============================] - 0s 15ms/step - loss: 4.9905e-04 - val_loss: 5.0108e-04\n",
      "Restoring model weights from the end of the best epoch.\n",
      "Epoch 00181: early stopping\n"
     ]
    }
   ],
   "source": [
    "# model callbacks\n",
    "es = EarlyStopping(monitor='val_loss', mode='min', verbose=1, patience=50, restore_best_weights=True)\n",
    "reduce_lr = LearningRateScheduler(lambda x: 1e-3 * 0.90 ** x)\n",
    "\n",
    "# loss function\n",
    "huber_loss = tf.keras.losses.Huber()\n",
    "model.compile(loss='mse', optimizer=Adam(learning_rate=0.1))\n",
    "\n",
    "# Traning\n",
    "history = model.fit([X_train_sent, X_train_price], y_train_price,\n",
    "                    validation_data=([X_test_sent, X_test_price], y_test_price), \n",
    "                    batch_size=256,\n",
    "                    shuffle=False,\n",
    "                    callbacks=[es, reduce_lr],\n",
    "                    epochs=1000,\n",
    "                    verbose=1,\n",
    "                   )"
   ]
  },
  {
   "cell_type": "code",
   "execution_count": 20,
   "id": "78038a11",
   "metadata": {
    "execution": {
     "iopub.execute_input": "2022-01-06T14:34:57.985935Z",
     "iopub.status.busy": "2022-01-06T14:34:57.984714Z",
     "iopub.status.idle": "2022-01-06T14:34:58.284926Z",
     "shell.execute_reply": "2022-01-06T14:34:58.284228Z",
     "shell.execute_reply.started": "2022-01-06T14:05:53.253498Z"
    },
    "papermill": {
     "duration": 0.871759,
     "end_time": "2022-01-06T14:34:58.285094",
     "exception": false,
     "start_time": "2022-01-06T14:34:57.413335",
     "status": "completed"
    },
    "tags": []
   },
   "outputs": [
    {
     "data": {
      "image/png": "[encoded data removed]",
      "text/plain": [
       "<Figure size 864x432 with 1 Axes>"
      ]
     },
     "metadata": {
      "needs_background": "light"
     },
     "output_type": "display_data"
    }
   ],
   "source": [
    "# summarize history for loss\n",
    "plt.figure(figsize=(12, 6))\n",
    "plt.plot(history.history['loss'])\n",
    "plt.plot(history.history['val_loss'])\n",
    "plt.title(f\"Model Loss\\n Error: [{np.min(history.history['val_loss'])}]\")\n",
    "plt.ylabel('loss')\n",
    "plt.xlabel('epoch')\n",
    "plt.legend(['train', 'test'], loc='upper left')\n",
    "plt.show()"
   ]
  },
  {
   "cell_type": "markdown",
   "id": "036afdb1",
   "metadata": {
    "papermill": {
     "duration": 0.561206,
     "end_time": "2022-01-06T14:34:59.412165",
     "exception": false,
     "start_time": "2022-01-06T14:34:58.850959",
     "status": "completed"
    },
    "tags": []
   },
   "source": [
    "## Predictions"
   ]
  },
  {
   "cell_type": "code",
   "execution_count": 21,
   "id": "c533a887",
   "metadata": {
    "execution": {
     "iopub.execute_input": "2022-01-06T14:35:00.552931Z",
     "iopub.status.busy": "2022-01-06T14:35:00.551792Z",
     "iopub.status.idle": "2022-01-06T14:35:01.752155Z",
     "shell.execute_reply": "2022-01-06T14:35:01.751602Z",
     "shell.execute_reply.started": "2022-01-06T14:05:53.476800Z"
    },
    "papermill": {
     "duration": 1.781375,
     "end_time": "2022-01-06T14:35:01.752342",
     "exception": false,
     "start_time": "2022-01-06T14:34:59.970967",
     "status": "completed"
    },
    "tags": []
   },
   "outputs": [
    {
     "name": "stdout",
     "output_type": "stream",
     "text": [
      "Real Mean-Aabsolute-Error: 608.7235711450166\n"
     ]
    }
   ],
   "source": [
    "# predict and compare\n",
    "pred = target_scaler.inverse_transform(model.predict([X_test_sent, X_test_price]))\n",
    "true = target_scaler.inverse_transform(y_test_price)\n",
    "\n",
    "print('Real Mean-Aabsolute-Error:', np.mean(abs(pred-true)))"
   ]
  },
  {
   "cell_type": "code",
   "execution_count": 22,
   "id": "5d9d283c",
   "metadata": {
    "execution": {
     "iopub.execute_input": "2022-01-06T14:35:02.962983Z",
     "iopub.status.busy": "2022-01-06T14:35:02.961630Z",
     "iopub.status.idle": "2022-01-06T14:35:03.242909Z",
     "shell.execute_reply": "2022-01-06T14:35:03.243465Z",
     "shell.execute_reply.started": "2022-01-06T14:05:54.360948Z"
    },
    "papermill": {
     "duration": 0.887114,
     "end_time": "2022-01-06T14:35:03.243653",
     "exception": false,
     "start_time": "2022-01-06T14:35:02.356539",
     "status": "completed"
    },
    "tags": []
   },
   "outputs": [
    {
     "data": {
      "image/png": "[encoded data removed]",
      "text/plain": [
       "<Figure size 864x432 with 1 Axes>"
      ]
     },
     "metadata": {
      "needs_background": "light"
     },
     "output_type": "display_data"
    }
   ],
   "source": [
    "# plot the results\n",
    "plt.figure(figsize=(12, 6))\n",
    "plt.plot(true, label='True');\n",
    "plt.plot(pred, label='Pred')\n",
    "plt.title(f'BTC-Prices Combine Models Predictions', fontsize=14)\n",
    "plt.legend();"
   ]
  },
  {
   "cell_type": "markdown",
   "id": "e5e52a7a",
   "metadata": {
    "papermill": {
     "duration": 0.881144,
     "end_time": "2022-01-06T14:35:04.686697",
     "exception": false,
     "start_time": "2022-01-06T14:35:03.805553",
     "status": "completed"
    },
    "tags": []
   },
   "source": [
    "## Conclusion:\n",
    "\n",
    "**The Real Mean-Aabsolute-Error is very good, also predictions fit very well, even better than each model alone.**"
   ]
  },
  {
   "cell_type": "code",
   "execution_count": null,
   "id": "8c4b1cce",
   "metadata": {
    "papermill": {
     "duration": 0.567364,
     "end_time": "2022-01-06T14:35:05.820313",
     "exception": false,
     "start_time": "2022-01-06T14:35:05.252949",
     "status": "completed"
    },
    "tags": []
   },
   "outputs": [],
   "source": []
  }
 ],
 "metadata": {
  "kernelspec": {
   "display_name": "Python 3",
   "language": "python",
   "name": "python3"
  },
  "language_info": {
   "codemirror_mode": {
    "name": "ipython",
    "version": 3
   },
   "file_extension": ".py",
   "mimetype": "text/x-python",
   "name": "python",
   "nbconvert_exporter": "python",
   "pygments_lexer": "ipython3",
   "version": "3.7.12"
  },
  "papermill": {
   "default_parameters": {},
   "duration": 125.771587,
   "end_time": "2022-01-06T14:35:09.438591",
   "environment_variables": {},
   "exception": null,
   "input_path": "__notebook__.ipynb",
   "output_path": "__notebook__.ipynb",
   "parameters": {},
   "start_time": "2022-01-06T14:33:03.667004",
   "version": "2.3.3"
  }
 },
 "nbformat": 4,
 "nbformat_minor": 5
}
